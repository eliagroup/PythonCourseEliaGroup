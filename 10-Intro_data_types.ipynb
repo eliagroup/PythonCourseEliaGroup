{
 "cells": [
  {
   "cell_type": "markdown",
   "metadata": {},
   "source": [
    "<br>\n",
    "\n",
    "<img src=\"./image/Logo/logo_elia_group.png\" width = 200>\n",
    "\n",
    "<br>"
   ]
  },
  {
   "attachments": {},
   "cell_type": "markdown",
   "metadata": {},
   "source": [
    "# Data Types\n",
    "<br>\n",
    "\n",
    "Let's dive into **Data types** and how they are used to represent data. Consider the data below: what data types are there in the table?\n",
    "\n",
    "\n",
    "<img src='./image/data_snippet_example.png'>\n",
    "\n",
    "<br>\n",
    "\n",
    "In the example above, you see multiple different types of columns: the `index` column, for example, is an increasing number without a decimal place. We can also see the datetime columns, as well as numbers with decimal places and text, such as `Non-Validated`. In Python, each of these has their own data type. The aforementioned data types like numbers with and without a decimal place, datetime and text, are in [Python all built-in and can be used right away](https://docs.python.org/3/library/stdtypes.html#built-in-types). The data type tells Python how to save the data, as well as what can be done to the data. For example, we can round float values (numbers with decimal places) to another decimal place, but this doesn't make sense for text data, so called strings. Similarly, we can make an entire string lowercase, but this doesn't make sense for float value data. \n",
    "<br>\n",
    "\n",
    "In the following subsection, you will look at some of the native data types in Python, meaning those that are built-in to the language. Later on, you will look at additional data types that come in when you use different Python **[libraries](https://www.geeksforgeeks.org/libraries-in-python/)**. Libraries are like extension packages in video games: they add additional functionalities to Python, including different data types and ways of handling the data."
   ]
  },
  {
   "cell_type": "markdown",
   "metadata": {},
   "source": [
    "## 1. Numbers\n",
    "<br>\n",
    "\n",
    "From the previous example we saw that there are data types, that store numeric values. In fact, there are 2 different data types for holding numeric values in python - **floats** and **integers**. In addition, Python can be used just like a calculator to work on these numbers. Let's try them out and see whether you can spot the differences. \n",
    "\n",
    "Run the code below and check the output:"
   ]
  },
  {
   "cell_type": "code",
   "execution_count": null,
   "metadata": {},
   "outputs": [],
   "source": [
    "type(16)"
   ]
  },
  {
   "cell_type": "code",
   "execution_count": null,
   "metadata": {},
   "outputs": [],
   "source": [
    "type(16.0)"
   ]
  },
  {
   "cell_type": "markdown",
   "metadata": {},
   "source": [
    "Exactly! The data type **float** is a number with a decimal point, whereas **integers** (mostly called **int**) are numbers without a decimal place."
   ]
  },
  {
   "cell_type": "markdown",
   "metadata": {},
   "source": [
    "You can switch between the two types by applying the `float()` or `int()` functions to them.\n",
    "\n",
    "Note that the `int()` function rounds the value DOWN to the nearest whole number."
   ]
  },
  {
   "cell_type": "code",
   "execution_count": null,
   "metadata": {},
   "outputs": [],
   "source": [
    "float(16)"
   ]
  },
  {
   "cell_type": "code",
   "execution_count": null,
   "metadata": {},
   "outputs": [],
   "source": [
    "int(34.8)"
   ]
  },
  {
   "cell_type": "code",
   "execution_count": null,
   "metadata": {},
   "outputs": [],
   "source": [
    "int(34.2)"
   ]
  },
  {
   "cell_type": "markdown",
   "metadata": {},
   "source": [
    "You can use the typical operators `(+, *, /, etc.)` to perform math operations. However, there is one exception: \n",
    "\n",
    "NOTE: In Python, `=` is **NOT used for doing a math operation**, but to assign a variable to a name. We will come back to that later."
   ]
  },
  {
   "cell_type": "markdown",
   "metadata": {},
   "source": [
    "Run the following cells:"
   ]
  },
  {
   "cell_type": "code",
   "execution_count": null,
   "metadata": {},
   "outputs": [],
   "source": [
    "6 * 5"
   ]
  },
  {
   "cell_type": "code",
   "execution_count": null,
   "metadata": {},
   "outputs": [],
   "source": [
    "30 + 5"
   ]
  },
  {
   "cell_type": "code",
   "execution_count": null,
   "metadata": {},
   "outputs": [],
   "source": [
    "7 * 2 + 24"
   ]
  },
  {
   "cell_type": "markdown",
   "metadata": {},
   "source": [
    "As you can see, Python will complete the operations based on correct order of operations. <br>\n",
    "You can also do exponentiations:"
   ]
  },
  {
   "cell_type": "code",
   "execution_count": null,
   "metadata": {},
   "outputs": [],
   "source": [
    "float(3) ** 2"
   ]
  },
  {
   "cell_type": "markdown",
   "metadata": {},
   "source": [
    "And the square root of a number:"
   ]
  },
  {
   "cell_type": "code",
   "execution_count": null,
   "metadata": {},
   "outputs": [],
   "source": [
    "float(9) ** 0.5"
   ]
  },
  {
   "cell_type": "markdown",
   "metadata": {},
   "source": [
    "### Exercise\n",
    "Now it's your turn: \n",
    "- Divide 10 by 2 and add 3. Run the code."
   ]
  },
  {
   "cell_type": "code",
   "execution_count": null,
   "metadata": {},
   "outputs": [],
   "source": [
    "# delete this line and replace it with your solution"
   ]
  },
  {
   "cell_type": "markdown",
   "metadata": {},
   "source": [
    "- First, multiply 10 times 5. Second, convert the answer to a float value. Run the code."
   ]
  },
  {
   "cell_type": "code",
   "execution_count": null,
   "metadata": {},
   "outputs": [],
   "source": [
    "# delete this line and replace it with your solution"
   ]
  },
  {
   "cell_type": "markdown",
   "metadata": {},
   "source": [
    "## 2. Strings\n",
    "\n",
    "Numbers are not the only thing we need when wrangling with our data. Maybe you want to print out the result of your analytics embedded in a nice sentence. Or you want to sort your photovoltaic data grouped by the regions like Brussels, Wallonia or Flanders. Hence, we need a new data type: Strings."
   ]
  },
  {
   "cell_type": "markdown",
   "metadata": {},
   "source": [
    "String data types hold **text data**. To create a string you can use `\"`, `'` or `str()`"
   ]
  },
  {
   "cell_type": "code",
   "execution_count": null,
   "metadata": {},
   "outputs": [],
   "source": [
    "\"this is fine\""
   ]
  },
  {
   "cell_type": "code",
   "execution_count": null,
   "metadata": {},
   "outputs": [],
   "source": [
    "'so is this'"
   ]
  },
  {
   "cell_type": "markdown",
   "metadata": {},
   "source": [
    " If a number appears in a string, it isn't treated as a number (can't be added, multiplied, etc.). It is treated as text: "
   ]
  },
  {
   "cell_type": "code",
   "execution_count": null,
   "metadata": {},
   "outputs": [],
   "source": [
    "str(16.0)"
   ]
  },
  {
   "cell_type": "markdown",
   "metadata": {},
   "source": [
    "We can add strings together (called concatenation):"
   ]
  },
  {
   "cell_type": "code",
   "execution_count": null,
   "metadata": {},
   "outputs": [],
   "source": [
    "\"yes\" + \"yes\" + \"yes\""
   ]
  },
  {
   "cell_type": "markdown",
   "metadata": {},
   "source": [
    "and multiply them:"
   ]
  },
  {
   "cell_type": "code",
   "execution_count": null,
   "metadata": {},
   "outputs": [],
   "source": [
    "\"yes\" * 3"
   ]
  },
  {
   "cell_type": "markdown",
   "metadata": {},
   "source": [
    "What happens when you try to multiply this string?"
   ]
  },
  {
   "cell_type": "code",
   "execution_count": null,
   "metadata": {},
   "outputs": [],
   "source": [
    "\"2\" * 3"
   ]
  },
  {
   "cell_type": "markdown",
   "metadata": {},
   "source": [
    "### Exercise\n",
    "- Print a string of your name."
   ]
  },
  {
   "cell_type": "code",
   "execution_count": null,
   "metadata": {},
   "outputs": [],
   "source": []
  },
  {
   "attachments": {},
   "cell_type": "markdown",
   "metadata": {},
   "source": [
    "## 3. Booleans\n",
    "\n",
    "The third data type is called Boolean. This one might seem odd at first glance, but can be very useful. You'll see. Booleans are \"truth values\" and therefore can be true or false. \n",
    "- `True`\n",
    "- `False`\n",
    "\n",
    "Why is that important? Well, imagine you check your photovoltaic data again and woul like to know whether on June 7th the monitored capacity at day was bigger than at night. In other words, `cap_day > cap_night`. If this statement is true, then Python would return `True`. If it's not then, of course, `False`. Sure, this example is simplified. But it gives you a hint in what way logical and conditional statements work in Python. <br> Let's play around a bit:"
   ]
  },
  {
   "cell_type": "code",
   "execution_count": null,
   "metadata": {},
   "outputs": [],
   "source": [
    "True * True"
   ]
  },
  {
   "cell_type": "code",
   "execution_count": null,
   "metadata": {},
   "outputs": [],
   "source": [
    "True * False"
   ]
  },
  {
   "cell_type": "code",
   "execution_count": null,
   "metadata": {},
   "outputs": [],
   "source": [
    "False * False"
   ]
  },
  {
   "cell_type": "code",
   "execution_count": null,
   "metadata": {},
   "outputs": [],
   "source": [
    "bool(234)"
   ]
  },
  {
   "cell_type": "code",
   "execution_count": null,
   "metadata": {},
   "outputs": [],
   "source": [
    "bool(\"Does this work?\")"
   ]
  },
  {
   "cell_type": "markdown",
   "metadata": {},
   "source": [
    "There are some exceptions: "
   ]
  },
  {
   "cell_type": "code",
   "execution_count": null,
   "metadata": {},
   "outputs": [],
   "source": [
    "bool(None)"
   ]
  },
  {
   "cell_type": "code",
   "execution_count": null,
   "metadata": {},
   "outputs": [],
   "source": [
    "bool(0)"
   ]
  },
  {
   "cell_type": "markdown",
   "metadata": {},
   "source": [
    "## 4. Lists"
   ]
  },
  {
   "cell_type": "markdown",
   "metadata": {},
   "source": [
    "A list in Python is a collection of data points. This means, that you can store multiple items. Just like a shopping or bucket list. <br> \n",
    "- A **list** in Python is created with brackets `[]` or using `list()`. &#128203;\n",
    "<br>\n",
    "\n",
    "In the following example, each day of the week is safed as a list. In addition, this list is stored in a variable called weekdays. (You'll learn more about variables in the next subsection.) <br> Let's run the code: \n"
   ]
  },
  {
   "cell_type": "code",
   "execution_count": null,
   "metadata": {},
   "outputs": [],
   "source": [
    "weekdays = ['Monday', 'Tuesday', 'Wednesday', 'Thursday', 'Friday', 'Saturday', 'Sunday']"
   ]
  },
  {
   "cell_type": "markdown",
   "metadata": {},
   "source": [
    "In Python, you **start counting with 0**. This means, that the first item in the list has the index 0. To start from the end of the list, you start with -1. This might seem confusing, but you'll get used to it. In addition, you can use selectors to select specific items within the list: \n",
    "<br>\n",
    "- **Selectors** are called after the list using `[]`. \n",
    "\n",
    "In order to get the first element of the list, you need to use the 0 inside the selector. To get the second item, you put 1 inside the selector and so on. Here we go:"
   ]
  },
  {
   "cell_type": "code",
   "execution_count": null,
   "metadata": {},
   "outputs": [],
   "source": [
    "weekdays[0]"
   ]
  },
  {
   "cell_type": "code",
   "execution_count": null,
   "metadata": {},
   "outputs": [],
   "source": [
    "weekdays[3]"
   ]
  },
  {
   "cell_type": "markdown",
   "metadata": {},
   "source": [
    "Do you remember that you can also start from the back of the list, using -1? Alright. In order to select the second to last, you subtract one further."
   ]
  },
  {
   "cell_type": "code",
   "execution_count": null,
   "metadata": {},
   "outputs": [],
   "source": [
    "weekdays[-1]"
   ]
  },
  {
   "cell_type": "code",
   "execution_count": null,
   "metadata": {},
   "outputs": [],
   "source": [
    "weekdays[-2]"
   ]
  },
  {
   "attachments": {},
   "cell_type": "markdown",
   "metadata": {},
   "source": [
    "&#128161; You want to select multiple items of a list? \n",
    "<br>\n",
    "This can be done with the following syntax: **weekdays[start_index : stop_index]**. The **stop index will not be included**. So for example weekdays[1:4] will select Tuesday, Wednesday, Thursday. If you don't put a start or stop index, python will go to the beginning or end of the list. For example weekdays[3:] will select 'Thursday', 'Friday', 'Saturday', 'Sunday'.\n",
    "Optionally, you can include a step into the syntax: **weekdays[start_index : stop_index : step_size]**. By default, it is one. But if you set the step size to 2, it will skip every second element. You can even provide negative steps if you want to go backwards."
   ]
  },
  {
   "cell_type": "markdown",
   "metadata": {},
   "source": [
    "### Exercise\n",
    "- Make a list called `months` that has 12 elements, one for each month.\n",
    "- Select the month of March\n",
    "- Select the months Jan, March, May"
   ]
  },
  {
   "cell_type": "code",
   "execution_count": null,
   "metadata": {},
   "outputs": [],
   "source": [
    "# delete this line and replace it with your solution"
   ]
  },
  {
   "cell_type": "code",
   "execution_count": null,
   "metadata": {},
   "outputs": [],
   "source": [
    "# delete this line and replace it with your solution"
   ]
  },
  {
   "cell_type": "code",
   "execution_count": null,
   "metadata": {},
   "outputs": [],
   "source": [
    "# delete this line and replace it with your solution"
   ]
  },
  {
   "cell_type": "markdown",
   "metadata": {},
   "source": [
    "## 5. Dictionary\n",
    "\n",
    "Dictionaries are a handy way to keep track of data in so-called key-value pairs. \n",
    "- Syntax: `{key1: value1, key2: value2}`"
   ]
  },
  {
   "cell_type": "markdown",
   "metadata": {},
   "source": [
    "What does this mean? Imagine you want to store not just a list of items but a list of key values with other associated values:"
   ]
  },
  {
   "cell_type": "code",
   "execution_count": 13,
   "metadata": {},
   "outputs": [],
   "source": [
    "energy = {\"type\": \"photovoltaic\",\n",
    "        \"renewable\": True,\n",
    "        \"year\": 2022,\n",
    "        \"capacity_MW\": [127.57, 425.21, 936.95]}"
   ]
  },
  {
   "cell_type": "code",
   "execution_count": null,
   "metadata": {},
   "outputs": [],
   "source": [
    "energy"
   ]
  },
  {
   "cell_type": "markdown",
   "metadata": {},
   "source": [
    "As you can see, a dictionary can involve different data types. A string, boolean an integer and even a list. <br>\n",
    "In addition, you can access the values of a key using a similar syntax you already know from lists. See:"
   ]
  },
  {
   "cell_type": "code",
   "execution_count": null,
   "metadata": {},
   "outputs": [],
   "source": [
    "energy[\"type\"]"
   ]
  },
  {
   "cell_type": "markdown",
   "metadata": {},
   "source": [
    "You can also overwrite values from a specific key or add new keys with new values to you dictionary:"
   ]
  },
  {
   "cell_type": "code",
   "execution_count": 17,
   "metadata": {},
   "outputs": [],
   "source": [
    "energy[\"type\"] = \"wind\""
   ]
  },
  {
   "cell_type": "code",
   "execution_count": null,
   "metadata": {},
   "outputs": [],
   "source": [
    "energy"
   ]
  },
  {
   "cell_type": "code",
   "execution_count": 19,
   "metadata": {},
   "outputs": [],
   "source": [
    "energy[\"maintenance\"] = True"
   ]
  },
  {
   "cell_type": "code",
   "execution_count": null,
   "metadata": {},
   "outputs": [],
   "source": [
    "energy"
   ]
  },
  {
   "cell_type": "markdown",
   "metadata": {},
   "source": [
    "### Exercise:\n",
    "- Add a key to the dictionary called `region`.\n",
    "- Set the value of this key to `Brussels`."
   ]
  },
  {
   "cell_type": "code",
   "execution_count": null,
   "metadata": {},
   "outputs": [],
   "source": []
  },
  {
   "cell_type": "code",
   "execution_count": null,
   "metadata": {},
   "outputs": [],
   "source": []
  }
 ],
 "metadata": {
  "kernelspec": {
   "display_name": "Python 3",
   "language": "python",
   "name": "python3"
  },
  "language_info": {
   "codemirror_mode": {
    "name": "ipython",
    "version": 3
   },
   "file_extension": ".py",
   "mimetype": "text/x-python",
   "name": "python",
   "nbconvert_exporter": "python",
   "pygments_lexer": "ipython3",
   "version": "3.11.4"
  }
 },
 "nbformat": 4,
 "nbformat_minor": 4
}
