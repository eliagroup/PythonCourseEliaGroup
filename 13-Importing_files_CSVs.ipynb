{
 "cells": [
  {
   "cell_type": "markdown",
   "metadata": {},
   "source": [
    "<br>\n",
    "\n",
    "<img src=\"./image/Logo/logo_elia_group.png\" width = 200>\n",
    "\n",
    "<br>"
   ]
  },
  {
   "cell_type": "markdown",
   "metadata": {},
   "source": [
    "## Importing Files\n",
    "<br>\n",
    "\n",
    "To import files, you combine what you have learned about paths with what you have learned about packages. \n",
    "How to import files depends on the type of file you want to import. \n",
    "- **Text files (*.txt):**\n",
    "    - You can easily read and write text files using the tools built in to basic Python\n",
    "- **CSVs (*.csv):**\n",
    "    - for CSVs, you can use either the built-in module `csv` or use an additional package called [Pandas](https://pandas.pydata.org). Pandas is the main data processing and analysis package for Python and hence very popular amongst Data Scientist and Data Engineers."
   ]
  },
  {
   "cell_type": "markdown",
   "metadata": {},
   "source": [
    "### Loading a *.txt file\n",
    "<br>\n",
    "\n",
    "In the following example, you will open and read a text file called `to_do_list`. It is a to-do list of typical day in a life of a data scientist."
   ]
  },
  {
   "cell_type": "code",
   "execution_count": null,
   "metadata": {},
   "outputs": [],
   "source": [
    "to_do_list = open('./text_files/to_do_list.txt', 'r') \n",
    "lines = to_do_list.readlines() \n",
    "for line in lines:\n",
    "    print(line)\n",
    "to_do_list.close()"
   ]
  },
  {
   "cell_type": "markdown",
   "metadata": {},
   "source": [
    "In the first line of code, you open the .txt file and store it into the variable `to_do_list`.\n",
    "In the second line of code, you make use of the function `readlines()`, which reads each line of the to-do list. Also, you assign it to a variable called `lines`. In the third and fourth line of code, you use a so-called for loop that includes the `print()` function. Do you remember this one? Right, it iterates through each line and prints it out. Finally, you close the file with `.close()`."
   ]
  },
  {
   "cell_type": "markdown",
   "metadata": {},
   "source": [
    "### Loading a *.csv file\n",
    "<br>\n",
    "\n",
    "CSVs can be easily loaded in a tabular format called a DataFrame. This is a **2-D datatype with columns and rows**, very similar to an excel file.\n",
    "To upload CSV files, you use the **Pandas** package. CSVs can be loaded from online, or from a local file using the path location.\n",
    "\n",
    "More infos on how to use Pandas will be provided in the second part the training &#128526;."
   ]
  },
  {
   "cell_type": "code",
   "execution_count": 3,
   "metadata": {},
   "outputs": [],
   "source": [
    "# import pandas\n",
    "import pandas as pd\n",
    "\n",
    "# loading a CSV from file\n",
    "energy_data = pd.read_csv(\"./data/energy/elia_load_2019_01_15.csv\", sep =\";\")"
   ]
  },
  {
   "cell_type": "code",
   "execution_count": null,
   "metadata": {},
   "outputs": [],
   "source": [
    "energy_data.head()"
   ]
  },
  {
   "cell_type": "markdown",
   "metadata": {},
   "source": [
    "Instead of `Pandas` you can also use the built-in `csv` module, which is part of Python's standard library. Here's how you can read a CSV file and process its contents using csv:"
   ]
  },
  {
   "cell_type": "code",
   "execution_count": null,
   "metadata": {},
   "outputs": [],
   "source": [
    "import csv\n",
    "\n",
    "with open('./data/energy/elia_load_2019_01_15.csv', mode='r') as file:\n",
    "    csv_reader = csv.reader(file, delimiter=';')\n",
    "    for row in csv_reader:\n",
    "        print(row)  # print each row"
   ]
  },
  {
   "cell_type": "markdown",
   "metadata": {},
   "source": [
    "<br>\n",
    "\n",
    "## Recap, Tips & Takeaways &#128161;\n",
    "\n",
    "<br>"
   ]
  },
  {
   "cell_type": "markdown",
   "metadata": {},
   "source": [
    "<div class=\"alert alert-block alert-success\">\n",
    "\n",
    "**Let's recap what you have learned in this section:**\n",
    "\n",
    "- you can import text files and CSVs easily \n",
    "- if you import .txt files, you need to insert the right path `open(\"./folder_name/file_name.txt\", 'r')`\n",
    "- to import csv files, you need to import pandas first: `import pandas as pd`\n",
    "    - then you can use the read_csv() function: `pd.read_csv(\"./folder_name/file_name.csv\")`\n",
    "        \n",
    "</div>"
   ]
  },
  {
   "cell_type": "markdown",
   "metadata": {},
   "source": [
    "## Extra resources\n",
    "To know more about reading files read:\n",
    "- [`open` command options explanation](https://docs.python.org/3/library/functions.html#open)\n",
    "- [`read_csv` command documentation](https://pandas.pydata.org/docs/reference/api/pandas.read_csv.html)"
   ]
  }
 ],
 "metadata": {
  "kernelspec": {
   "display_name": "Python 3",
   "language": "python",
   "name": "python3"
  },
  "language_info": {
   "codemirror_mode": {
    "name": "ipython",
    "version": 3
   },
   "file_extension": ".py",
   "mimetype": "text/x-python",
   "name": "python",
   "nbconvert_exporter": "python",
   "pygments_lexer": "ipython3",
   "version": "3.11.4"
  }
 },
 "nbformat": 4,
 "nbformat_minor": 4
}
