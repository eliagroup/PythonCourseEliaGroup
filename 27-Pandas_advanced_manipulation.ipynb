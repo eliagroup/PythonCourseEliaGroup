{
 "cells": [
  {
   "cell_type": "markdown",
   "metadata": {},
   "source": [
    "<br>\n",
    "\n",
    "<img src=\"./image/Logo/logo_elia_group.png\" width = 200>\n",
    "\n",
    "<br>"
   ]
  },
  {
   "cell_type": "markdown",
   "metadata": {},
   "source": [
    "# Advanced Manipulation\n",
    "<br>\n",
    "\n",
    "It is time to learn some advanced data manipulation. In the following section, you will learn how to access your data through looping. Looping is a super important method to calculate new values based on your existing values. There are many different looping methods such as `iterrows()`, `apply()` or the vectorization method. The main difference between those is their speed. To simplify things, you will first focus on `apply()` and subsequently get to know vectorization. But don't worry. Vectorization sounds like hardcore math, but it isn't. \n",
    "\n",
    "<ins>You will learn:</ins>\n",
    "1. How to access and manipulate data in Series / DataFrames with **apply()**.\n",
    "2. How to speed up the process by using **vectorization** methods.\n",
    "\n",
    "Let's get to it!"
   ]
  },
  {
   "cell_type": "markdown",
   "metadata": {},
   "source": [
    "## Looping with apply()\n",
    "<br>\n",
    "\n",
    "A simple DataFrame consists of Series, which you know as columns. If you would now like to iterate and apply a function on your data, this would probably look a bit like this: \n",
    "\n",
    "`for row in range(len(df_short)): #  number of rows\n",
    "    for col in range(len(df_short.columns)): # number of columns\n",
    "        print(df_short.iloc[row, col])`\n",
    "        \n",
    "But there is a **way more easy way** than using nested loops! With `apply()` you can literally apply a function along a row or a column! First, let's have a look at Pandas Series before we move on to DataFrames:"
   ]
  },
  {
   "cell_type": "markdown",
   "metadata": {},
   "source": [
    "### Accessing/Manipulating data in <ins>Series</ins> with **.apply()**\n",
    "\n",
    "- `apply()` applies a function to each element in a Series e.g. calculate the string length of each value within a column\n",
    "- check [documentation](https://pandas.pydata.org/pandas-docs/stable/reference/api/pandas.Series.apply.html) for more input\n",
    "\n",
    "<img src = \"./image/Icons/apply_column_example.png\" width = 200>\n",
    "\n",
    "Let's do an example on how to apply the `len()` function using `apply()`.\n",
    "<br>\n",
    "\n",
    "&#128161; About `len()`: This function is a Python built-in function. It returns the length of an object. For instance, it returns the number of items in a list if applied on a list or the length of a string if applied on a string."
   ]
  },
  {
   "cell_type": "code",
   "execution_count": null,
   "metadata": {},
   "outputs": [],
   "source": [
    "import pandas as pd\n",
    "\n",
    "physical_flow = pd.read_csv(\"./data/energy/physical_flow_2021_1_01.csv\", sep = \";\")\n",
    "physical_flow.head()"
   ]
  },
  {
   "cell_type": "markdown",
   "metadata": {},
   "source": [
    "Let's shorten the df for this example:"
   ]
  },
  {
   "cell_type": "code",
   "execution_count": null,
   "metadata": {},
   "outputs": [],
   "source": [
    "df_short = physical_flow.loc[:5, :\"Control area\"]\n",
    "df_short"
   ]
  },
  {
   "cell_type": "markdown",
   "metadata": {},
   "source": [
    "And create a Series: "
   ]
  },
  {
   "cell_type": "code",
   "execution_count": null,
   "metadata": {},
   "outputs": [],
   "source": [
    "series_short = df_short[\"Control area\"]\n",
    "series_short"
   ]
  },
  {
   "cell_type": "markdown",
   "metadata": {},
   "source": [
    "Now let's apply the `len()` function using `apply()`:"
   ]
  },
  {
   "cell_type": "code",
   "execution_count": null,
   "metadata": {},
   "outputs": [],
   "source": [
    "area_name_lenght = series_short.apply(len)\n",
    "area_name_lenght"
   ]
  },
  {
   "cell_type": "markdown",
   "metadata": {},
   "source": [
    "See, it returns the length of the string (in this case the length of each control area name) for each row of a Series."
   ]
  },
  {
   "cell_type": "markdown",
   "metadata": {},
   "source": [
    "### Accessing/Manipulating data in a <ins>DataFrame</ins> with **.apply()**\n",
    "\n",
    "- you can apply the `apply()` function to either axis of a DataFrame, this means you can loop through rows **and** columns where\n",
    "    - axis = 0 for column\n",
    "    - axis = 1 for row."
   ]
  },
  {
   "cell_type": "markdown",
   "metadata": {},
   "source": [
    "**axis = 0:**\n",
    "\n",
    "<img src = \"./image/loop_column.png\" width = 600>\n",
    "\n",
    "**axis = 1:**\n",
    "\n",
    "<img src = \"./image/loop_row.png\" width = 600>"
   ]
  },
  {
   "cell_type": "markdown",
   "metadata": {},
   "source": [
    "So let's check out our Dataframe again..."
   ]
  },
  {
   "cell_type": "code",
   "execution_count": null,
   "metadata": {},
   "outputs": [],
   "source": [
    "physical_flow.head()"
   ]
  },
  {
   "cell_type": "markdown",
   "metadata": {},
   "source": [
    "... and shorten it, so that it is better manageable for this example"
   ]
  },
  {
   "cell_type": "code",
   "execution_count": null,
   "metadata": {},
   "outputs": [],
   "source": [
    "ph_flow_short = physical_flow.loc[:10,\"Resolution code\":\"Physical Flow Value\"]\n",
    "ph_flow_short"
   ]
  },
  {
   "cell_type": "markdown",
   "metadata": {},
   "source": [
    "First, let's write a function that returns `True` if the \"Physical Flow Value\" was positive otherwise `False` because a positive figure means export from Belgium, while a negative figure means import into Belgium."
   ]
  },
  {
   "cell_type": "code",
   "execution_count": null,
   "metadata": {},
   "outputs": [],
   "source": [
    "def is_export_from_BE(row):\n",
    "    if row[\"Physical Flow Value\"] >= 0:\n",
    "        return True\n",
    "    else:\n",
    "        return False"
   ]
  },
  {
   "cell_type": "markdown",
   "metadata": {},
   "source": [
    "Now create a new column called `BE Export Check` that applies this newly defined function `is_export_from_BE` on each row:"
   ]
  },
  {
   "cell_type": "code",
   "execution_count": null,
   "metadata": {},
   "outputs": [],
   "source": [
    "ph_flow_short.loc[:, \"BE Export Check\"] = ph_flow_short.apply(is_export_from_BE, axis = 1)\n",
    "ph_flow_short.head()"
   ]
  },
  {
   "cell_type": "markdown",
   "metadata": {},
   "source": [
    "&#128515; Can you spot the newly column with the previously defined function applied? Amazing, well done!"
   ]
  },
  {
   "cell_type": "markdown",
   "metadata": {},
   "source": [
    "### Exercise\n",
    "\n",
    "Let's do another one. "
   ]
  },
  {
   "cell_type": "code",
   "execution_count": null,
   "metadata": {},
   "outputs": [],
   "source": [
    "import pandas as pd\n",
    "\n",
    "physical_flow = pd.read_csv(\"./data/energy/physical_flow_2021_1_01.csv\", sep = \";\")\n",
    "ph_flow_exercise = physical_flow.loc[:,\"Resolution code\":\"Physical Flow Value\"]\n",
    "ph_flow_exercise"
   ]
  },
  {
   "cell_type": "markdown",
   "metadata": {},
   "source": [
    "\n",
    "1. First, create a new function called `flow_check` that returns **\">200 MW\"** if the `Physical Flow Value` is bigger than 200 MW and **\"<200 MW\"** if it is less than 200 MW.\n"
   ]
  },
  {
   "cell_type": "code",
   "execution_count": null,
   "metadata": {},
   "outputs": [],
   "source": [
    "# delete this line and replace it with your solution"
   ]
  },
  {
   "cell_type": "markdown",
   "metadata": {},
   "source": [
    "2. Create a new column called `Flow Size` that applies this function onto your DataFrame `ph_flow_exercise`"
   ]
  },
  {
   "cell_type": "code",
   "execution_count": null,
   "metadata": {},
   "outputs": [],
   "source": [
    "# delete this line and replace it with your solution"
   ]
  },
  {
   "cell_type": "markdown",
   "metadata": {},
   "source": [
    "## Additional functions: Series.map()/ DataFrame.Map()\n",
    "<br>\n",
    "\n",
    "Since you now know how to loop through functions, let's check out some additional functions that really come in handy!\n",
    "\n",
    "- `Series.map()` is used to substitute each value with another value\n",
    "- `DataFrame.map()` is used for element-wise operations across the whole DataFrame\n",
    "\n",
    "So what does this mean...?\n",
    "\n",
    "### Map\n",
    "\n",
    "`map()` is a Series method. It allows us to map existing values of a Series to a different set of values. For instance, imagine you have a set of data with one column called \"Gender\" consisting of the string values \"male, \"female\" and \"diverse\". You would like to translate those values, so that `male = 0`, `female = 1`, and `diverse = 2`. To do so, you can use `map()`. \n",
    "\n",
    "It...\n",
    "- is a Series Method\n",
    "- allows us to map an existing value of a Series to a different set of values\n",
    "\n",
    "&#128526; Let's practice!"
   ]
  },
  {
   "cell_type": "markdown",
   "metadata": {},
   "source": [
    "In the energy sector, you probably won't have to deal with gender data. However, `map()` still comes in handy. In the following example, you could e.g. replace `True` with `Export to` and `False` with `Import from`. "
   ]
  },
  {
   "cell_type": "code",
   "execution_count": null,
   "metadata": {},
   "outputs": [],
   "source": [
    "ph_flow_short.head()"
   ]
  },
  {
   "cell_type": "code",
   "execution_count": null,
   "metadata": {},
   "outputs": [],
   "source": [
    "ph_flow_short.loc[:,\"BE physical energy flow\"] = ph_flow_short[\"BE Export Check\"].map({True: \"Export to\", False: \"Import from\"})\n",
    "ph_flow_short.head()"
   ]
  },
  {
   "cell_type": "markdown",
   "metadata": {},
   "source": [
    "Does the Syntax look familiar to you? Right, the input of the `map()` function is based on key-value pairs. "
   ]
  },
  {
   "cell_type": "markdown",
   "metadata": {},
   "source": [
    "### DataFrame.map()\n",
    "\n",
    "Another function that comes in handy is `DataFrame.map()`. It applies a function to **every element** of a DataFrame. <br>\n",
    "\n",
    "<img src = \"./image/applymap_example.png\" width = 600>\n",
    "<br>\n",
    "\n",
    "Let's check out an example: "
   ]
  },
  {
   "cell_type": "code",
   "execution_count": null,
   "metadata": {},
   "outputs": [],
   "source": [
    "df_applymap = ph_flow_short.loc[:,[\"Physical Flow Value\"]].map(int)\n",
    "df_applymap.head()"
   ]
  },
  {
   "cell_type": "markdown",
   "metadata": {},
   "source": [
    "As you can see, with `DataFrame.map()` you can e.g. select all the columns with numeric values in your dataframe and change their data type from float to int. "
   ]
  },
  {
   "cell_type": "markdown",
   "metadata": {},
   "source": [
    "## Speed up the process - **Vectorization**\n",
    "\n",
    "If you do simple data manipulation, then `apply()` works just fine. However, it is not the fastest way to access and manipulate your data. You can speed up the process by using the vectorization method. In order to use vectorization, you have to `import numpy` first. [Numpy](https://numpy.org/) is an open source Python library that’s used frequently in science and engineering. If you work with numeric data, you will definitely learn to love Numpy!\n",
    "\n",
    "<ins>What are vectorization methods?</ins>\n",
    "- Applying a manipulation to a whole array aka vector, instead of single values.\n",
    "- You have been indirectly using vectorization when you used e.g. `groupby()`!\n",
    "\n",
    "<ins>Why should we use it?</ins>\n",
    "- You can use it to avoid looping row by row over the data set and hence save a lot of time if the data set is huge!\n"
   ]
  },
  {
   "cell_type": "markdown",
   "metadata": {},
   "source": [
    "Now imagine, you would like to add a new column to your dataframe called `new column`. This new column simply combines the two existing columns `BE physical energy flow` and `Control area`:"
   ]
  },
  {
   "cell_type": "code",
   "execution_count": null,
   "metadata": {},
   "outputs": [],
   "source": [
    "ph_flow_short.head()"
   ]
  },
  {
   "cell_type": "code",
   "execution_count": null,
   "metadata": {},
   "outputs": [],
   "source": [
    "ph_flow_short.loc[:,\"new column\"] = ph_flow_short[\"BE physical energy flow\"] + \" \" + ph_flow_short[\"Control area\"]\n",
    "ph_flow_short"
   ]
  },
  {
   "cell_type": "markdown",
   "metadata": {},
   "source": [
    "So let's turn one of the previous functions into a vectorization. <br>"
   ]
  },
  {
   "cell_type": "markdown",
   "metadata": {},
   "source": [
    "The first guess would be, to pass the whole vector aka Series (instead of single rows as before) into the to-be-applied function and then make the calculation. But..."
   ]
  },
  {
   "cell_type": "code",
   "execution_count": null,
   "metadata": {},
   "outputs": [],
   "source": [
    "def flow_check(series):\n",
    "    print(series)\n",
    "    if series >200:\n",
    "        return \">200 MW\"\n",
    "    else:\n",
    "        return \"<200 MW\"\n",
    "\n",
    "ph_flow_short.loc[:,\"Flow Size\"] = flow_check(ph_flow_short[\"Physical Flow Value\"])"
   ]
  },
  {
   "cell_type": "markdown",
   "metadata": {},
   "source": [
    "**This throws us a ValueError** because Python does not know how to tell if a whole column is greater than 25. This is where Numpy comes in handy."
   ]
  },
  {
   "cell_type": "markdown",
   "metadata": {},
   "source": [
    "## np.where()\n",
    "<br>\n",
    "\n",
    "First, let's check out `np.where()`. This method is like the \"if statement\" in Excel.\n",
    "\n",
    "- Syntax: \n",
    "           np.where(\n",
    "                conditional statement -> bool array,\n",
    "                series/array/function()/scalar if True,\n",
    "                series/array/function()/scalar if False\n",
    "           )"
   ]
  },
  {
   "cell_type": "markdown",
   "metadata": {},
   "source": [
    "Let's try it out: "
   ]
  },
  {
   "cell_type": "code",
   "execution_count": null,
   "metadata": {},
   "outputs": [],
   "source": [
    "import numpy as np\n",
    "\n",
    "ph_flow_short.loc[:, \"Flow Size by vec\"] = np.where(\n",
    "    ph_flow_short[\"Physical Flow Value\"]>200, # <-- condition\n",
    "    \">200 MW\", # <-- return if true\n",
    "    \"<200 MW\" #<-- return if false\n",
    "    )\n",
    "\n",
    "ph_flow_short.head(3)"
   ]
  },
  {
   "cell_type": "markdown",
   "metadata": {},
   "source": [
    "## np.select()\n",
    "<br>\n",
    "\n",
    "If you have multiple conditions, you can simply use `np.select()`.\n",
    "- Syntax:\n",
    "``` \n",
    "        conditions = [\n",
    "            condition1\n",
    "            condition2\n",
    "            etc.\n",
    "        ]\n",
    "\n",
    "        choices = [\n",
    "            value1\n",
    "            value2\n",
    "            etc.\n",
    "        ]\n",
    "\n",
    "df[\"new column\"] = np.select(conditions, choices, default=\"NA\")\n",
    "```"
   ]
  },
  {
   "cell_type": "markdown",
   "metadata": {},
   "source": [
    "Let's try out another example in regard to the size of the physical flow: "
   ]
  },
  {
   "cell_type": "code",
   "execution_count": null,
   "metadata": {},
   "outputs": [],
   "source": [
    "conditions = [\n",
    "    ph_flow_short[\"Physical Flow Value\"] == 0, # first condition to test: if true return choice1, if false check next condition\n",
    "    ph_flow_short[\"Physical Flow Value\"] < 200, # second condition to test: if true return choice2, if false check next condition\n",
    "    ph_flow_short[\"Physical Flow Value\"] < 1000 # third condition to test: if true return choice3, if false default value is returned\n",
    "]\n",
    "\n",
    "choices = [\n",
    "    \"None\",  # choice1\n",
    "    \"Small\", # choice2\n",
    "    \"Big\",   # choice3\n",
    "]\n",
    "\n",
    "ph_flow_short.loc[:,\"Flow_grouped\"] = np.select(conditions, choices, default=\"Large\") #  default value is the value if none of the conditions are true\n",
    "print(ph_flow_short.Flow_grouped.value_counts())\n",
    "ph_flow_short.tail(10)"
   ]
  },
  {
   "cell_type": "markdown",
   "metadata": {},
   "source": [
    "<br>\n",
    "\n",
    "## Recap, Tips & Takeaways &#128161;\n",
    "\n",
    "<br>"
   ]
  },
  {
   "cell_type": "markdown",
   "metadata": {},
   "source": [
    "<div class=\"alert alert-block alert-success\">\n",
    "\n",
    "**Let's recap what you have learned in this section:**\n",
    "\n",
    "- You can use `apply()` to access and manipulate Series and DataFrames\n",
    "- In a DataFrame, you can loop through rows and columns, you just need to specify the axis: \n",
    "    - axis = 0 for column \n",
    "    - axis = 1 for row\n",
    "- You can speed up the process by using vectorization\n",
    "    - For that you need to `import numpy as np`\n",
    "    - `np.where()` is basically like an if statement in Excel\n",
    "    - `np.select()` can be used to define multiple if statements with its conditions and choices \n",
    " \n",
    "</div>"
   ]
  }
 ],
 "metadata": {
  "kernelspec": {
   "display_name": "Python 3",
   "language": "python",
   "name": "python3"
  },
  "language_info": {
   "codemirror_mode": {
    "name": "ipython",
    "version": 3
   },
   "file_extension": ".py",
   "mimetype": "text/x-python",
   "name": "python",
   "nbconvert_exporter": "python",
   "pygments_lexer": "ipython3",
   "version": "3.11.4"
  }
 },
 "nbformat": 4,
 "nbformat_minor": 4
}
