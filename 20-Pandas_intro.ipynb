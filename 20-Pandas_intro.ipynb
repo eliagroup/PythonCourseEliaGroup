{
 "cells": [
  {
   "cell_type": "markdown",
   "metadata": {},
   "source": [
    "<br>\n",
    "\n",
    "<img src=\"./image/Logo/logo_elia_group.png\" width = 200>\n",
    "\n",
    "<br>"
   ]
  },
  {
   "cell_type": "markdown",
   "metadata": {},
   "source": [
    "# Python for Data Wrangling\n",
    "<br> \n",
    "\n",
    "## Intro to Pandas 🐼\n",
    "\n",
    "Welcome back! In this section you will learn about one of the most important packages for data scientists: [Pandas](https://pandas.pydata.org/pandas-docs/stable/index.html). Pandas is a [package](https://data36.com/python-import-built-in-modules-data-science/) in Python used for data formatting, analysis and manipulation. It helps you to deal with 2-D table-like data structures, which is what business people and other stakeholders are used to see.<br> \n",
    "\n",
    "Pandas gives you all the tools to..\n",
    "- **clean up** and organize your data (i.e. resampling, filling missing values)\n",
    "- \"**automate the boring stuff**\" and quickly add value to any team\n",
    "- work with other packages and libraries like [matplotlib](https://matplotlib.org/) or [Scikit-Learn](https://scikit-learn.org/stable/)\n",
    "- actually make sense of your data set!\n",
    "\n",
    "The cool thing about Pandas is that it allows you way more flexibility compared to Excel. Also, it empowers you to work with massive data sets without getting lost or having trouble to upload it. <br>\n",
    "\n",
    "Sounds good? Let's do this.\n",
    "\n",
    "<img src=\"./image/Icons/Icon_2019_WEB_progression.png\">"
   ]
  },
  {
   "cell_type": "markdown",
   "metadata": {},
   "source": [
    "### When to use Pandas\n",
    "\n",
    "Maybe you already have an idea when Pandas comes in handy. The following figure shows you the entire data science pipeline. Can you spot Pandas?"
   ]
  },
  {
   "cell_type": "markdown",
   "metadata": {},
   "source": [
    "<br>\n",
    "\n",
    "<img src= \"./image/ds_path.png\">\n",
    "\n",
    "<br>\n",
    "\n",
    "[source](https://medium.com/dunder-data/how-to-learn-pandas-108905ab4955)"
   ]
  },
  {
   "cell_type": "markdown",
   "metadata": {},
   "source": [
    "### Importing Pandas\n",
    "\n",
    "As being said, Pandas gives you a great way to deal with 2-D data structures (like SQL or Excel tables) in Python, which isn't \"native\" to the language. To add the features of Pandas to Python, you need to install it by running `pip install pandas`. [Pip](https://packaging.python.org/en/latest/tutorials/installing-packages/#use-pip-for-installing) is a package installer that is recommended to help you installing new libraries to your working environment.\n",
    "\n",
    "After installation you can `import` the package just like the [ones that came already installed with Python](https://docs.python.org/3.11/py-modindex.html).  By `import`-ing the package, you allow the current `*.py` or `*.ipynb` file you're working on to use the functionality of the package. Additionally, shortening pandas to `pd` is common. <br>"
   ]
  },
  {
   "cell_type": "code",
   "execution_count": null,
   "metadata": {},
   "outputs": [],
   "source": [
    "import pandas as pd "
   ]
  },
  {
   "cell_type": "code",
   "execution_count": null,
   "metadata": {},
   "outputs": [],
   "source": [
    "#check for the current version like this \n",
    "pd.__version__"
   ]
  },
  {
   "cell_type": "markdown",
   "metadata": {},
   "source": [
    "### Additional Data Types in Pandas\n",
    "\n",
    "Let's recap the datatypes you are already familiar with:"
   ]
  },
  {
   "cell_type": "code",
   "execution_count": null,
   "metadata": {},
   "outputs": [],
   "source": [
    "float(16)"
   ]
  },
  {
   "cell_type": "code",
   "execution_count": null,
   "metadata": {},
   "outputs": [],
   "source": [
    "int(16)"
   ]
  },
  {
   "cell_type": "code",
   "execution_count": null,
   "metadata": {},
   "outputs": [],
   "source": [
    "str(16)"
   ]
  },
  {
   "cell_type": "code",
   "execution_count": null,
   "metadata": {},
   "outputs": [],
   "source": [
    "bool(16)"
   ]
  },
  {
   "cell_type": "code",
   "execution_count": null,
   "metadata": {},
   "outputs": [],
   "source": [
    "list([1,2,3])"
   ]
  },
  {
   "cell_type": "markdown",
   "metadata": {},
   "source": [
    "When working with Pandas, you will make use of additional datatypes: \n",
    "\n",
    "- **pd.Series**:\n",
    "    - 1-D data structure; single columns.\n",
    "\n",
    "- **pd.DataFrame**:\n",
    "    - 2-D data structure (better known as a table with *named columns* & *numbered rows*).\n",
    "    \n",
    "Pandas adds those two more datatypes to the ones that are native to Python. <br>\n",
    "In this training, you will mainly **focus on pd.DataFrame**, since they are super important in data science (you cannot train a model with only 1 single array of data)."
   ]
  },
  {
   "cell_type": "markdown",
   "metadata": {},
   "source": [
    "### Series\n",
    "\n",
    "Per definition, [Pandas Series](https://pandas.pydata.org/docs/reference/series.html#series) are one-dimensional data structures which can hold data such as strings, integers and other [Python objects](https://docs.python.org/3/reference/datamodel.html); just like a column in a table. In Python, a Pandas Series can be easily created using `pandas.Series()`. \n",
    "<br>\n",
    "\n",
    "Take a look at the following example: "
   ]
  },
  {
   "cell_type": "code",
   "execution_count": null,
   "metadata": {},
   "outputs": [],
   "source": [
    "import pandas as pd"
   ]
  },
  {
   "cell_type": "code",
   "execution_count": null,
   "metadata": {},
   "outputs": [],
   "source": [
    "grid_load = [1182.06, 1067.81, 7538.02]\n",
    "\n",
    "grid_load_series = pd.Series(grid_load)"
   ]
  },
  {
   "cell_type": "code",
   "execution_count": null,
   "metadata": {},
   "outputs": [],
   "source": [
    "print(grid_load_series)"
   ]
  },
  {
   "cell_type": "markdown",
   "metadata": {},
   "source": [
    "In comparison, this is how a list looks like: "
   ]
  },
  {
   "cell_type": "code",
   "execution_count": null,
   "metadata": {},
   "outputs": [],
   "source": [
    "print(grid_load)"
   ]
  },
  {
   "cell_type": "markdown",
   "metadata": {},
   "source": [
    "You can access each item of a Series by using its index:"
   ]
  },
  {
   "cell_type": "code",
   "execution_count": null,
   "metadata": {},
   "outputs": [],
   "source": [
    "grid_load_series[0]"
   ]
  },
  {
   "cell_type": "markdown",
   "metadata": {},
   "source": [
    "Or create even new indexes: "
   ]
  },
  {
   "cell_type": "code",
   "execution_count": null,
   "metadata": {},
   "outputs": [],
   "source": [
    "grid_load_index = pd.Series(grid_load, index = [\"Jan\", \"Feb\", \"March\"])"
   ]
  },
  {
   "cell_type": "code",
   "execution_count": null,
   "metadata": {},
   "outputs": [],
   "source": [
    "grid_load_index"
   ]
  },
  {
   "cell_type": "markdown",
   "metadata": {},
   "source": [
    "### DataFrame\n",
    "\n",
    "So, the first question you probably ask yourself is \"What is a DataFrame made of?\". A DataFrame is like a 2-D data structure (tabular data) and therefore consists of rows and columns.\n",
    "<br/> \n",
    "\n",
    "Let's create a [Pandas DataFrame](https://pandas.pydata.org/docs/reference/frame.html#dataframe) from a list of lists with `pandas.DataFrame()` and check its components:"
   ]
  },
  {
   "cell_type": "code",
   "execution_count": null,
   "metadata": {},
   "outputs": [],
   "source": [
    "list_of_lists = [[\"Wallonia\", 4339.61],[\"Flanders\",1536.84],[\"Flemish-Brabant\",514.58]]\n",
    "list_of_lists"
   ]
  },
  {
   "cell_type": "code",
   "execution_count": null,
   "metadata": {},
   "outputs": [],
   "source": [
    "df = pd.DataFrame(list_of_lists,columns = [\"Region\", \"Monitored_Capacity\"])\n",
    "df"
   ]
  },
  {
   "cell_type": "markdown",
   "metadata": {},
   "source": [
    "Same way, you can create a DataFrame from a list of dictionaries or even from dictionary of lists! \n",
    "\n",
    "*Note that you can omit the columns parameter here because the dictionaries came with column labels that are used for the resulting frames.*"
   ]
  },
  {
   "cell_type": "code",
   "execution_count": null,
   "metadata": {},
   "outputs": [],
   "source": [
    "list_of_dicts = [{\"Region\":\"Wallonia\", \"Monitored_Capacity\":4339.61}, {\"Region\":\"Flanders\", \"Monitored_Capacity\":1536.84}, {\"Region\":\"Flemish-Brabant\", \"Monitored_Capacity\":514.58}]\n",
    "df_lodicts = pd.DataFrame(list_of_dicts)\n",
    "df_lodicts"
   ]
  },
  {
   "cell_type": "code",
   "execution_count": null,
   "metadata": {},
   "outputs": [],
   "source": [
    "dict_of_lists = {\"Region\":[\"Wallonia\", \"Flanders\", \"Flemish-Brabant\"], \"Monitored_Capacity\":[4339.61, 1536.84, 514.58]}\n",
    "df_dictol = pd.DataFrame(dict_of_lists)\n",
    "df_dictol"
   ]
  },
  {
   "cell_type": "markdown",
   "metadata": {},
   "source": [
    "As you can see, with `pd.DataFrame()` you can easily create frames from a list of lists or dictionaries. Now, let's have a look at the different components of such a DataFrame:"
   ]
  },
  {
   "cell_type": "code",
   "execution_count": null,
   "metadata": {},
   "outputs": [],
   "source": [
    "df.columns"
   ]
  },
  {
   "cell_type": "code",
   "execution_count": null,
   "metadata": {},
   "outputs": [],
   "source": [
    "df.index"
   ]
  },
  {
   "cell_type": "code",
   "execution_count": null,
   "metadata": {},
   "outputs": [],
   "source": [
    "df.values[0]"
   ]
  },
  {
   "cell_type": "markdown",
   "metadata": {},
   "source": [
    "## Pandas for Data Understanding and Analysis\n",
    "\n",
    "### Importing a DataFrame\n",
    "\n",
    "Let's have a look at a way bigger data set. You will use the original data set of *photovoltaic power production estimation and forecast on the Belgian grid*. This data set is orginally from the [Elia Open Source API](\"https://opendata.elia.be/explore/dataset/ods087/information/\"). But no worries, the data set is already downloaded into your [data/energy](data/energy) folder for your convenience.\n",
    "<br>"
   ]
  },
  {
   "cell_type": "code",
   "execution_count": null,
   "metadata": {},
   "outputs": [],
   "source": [
    "import pandas as pd"
   ]
  },
  {
   "cell_type": "markdown",
   "metadata": {},
   "source": [
    "1. Use the `read_csv` function to load your data from a `csv` file into a DataFrame:"
   ]
  },
  {
   "cell_type": "code",
   "execution_count": null,
   "metadata": {},
   "outputs": [],
   "source": [
    "# since the csv is separated by a ';' delimiter this has to be clarified in the read_csv function\n",
    "pv_power = pd.read_csv(\"./data/energy/ods087.csv\", sep = ';') "
   ]
  },
  {
   "cell_type": "markdown",
   "metadata": {},
   "source": [
    "2. Inspect `pv_power` to get a first overview of your data, there are several things you can do. `<dataframe_name>.head()` shows the first n rows (5 by default) in order of imported - this is important as it's not sorted!. So the first row you see may not be the \"actual\" first row, or the first row you expect to see. Please keep that in mind!"
   ]
  },
  {
   "cell_type": "code",
   "execution_count": null,
   "metadata": {},
   "outputs": [],
   "source": [
    "pv_power.head()"
   ]
  },
  {
   "cell_type": "markdown",
   "metadata": {},
   "source": [
    "- 2.a) If you, for instance, would like to see the first 10 rows, you need to set n to 10:"
   ]
  },
  {
   "cell_type": "code",
   "execution_count": null,
   "metadata": {},
   "outputs": [],
   "source": [
    "pv_power.head(n=10)"
   ]
  },
  {
   "cell_type": "markdown",
   "metadata": {},
   "source": [
    "3. You can also look at the **last** n rows with `<dataframe_name>.tail()` which shows last n rows in order of imported (we limit it to three in this example):"
   ]
  },
  {
   "cell_type": "code",
   "execution_count": null,
   "metadata": {},
   "outputs": [],
   "source": [
    "pv_power.tail(n=3)"
   ]
  },
  {
   "cell_type": "markdown",
   "metadata": {},
   "source": [
    "4. If you would like to know **how many rows or columns** your data set has in total, you can apply `<dataframe_name>.shape`:"
   ]
  },
  {
   "cell_type": "code",
   "execution_count": null,
   "metadata": {},
   "outputs": [],
   "source": [
    "# The first entry stands for the number of rows, the second entry for the number of columns\n",
    "pv_power.shape "
   ]
  },
  {
   "cell_type": "code",
   "execution_count": null,
   "metadata": {},
   "outputs": [],
   "source": [
    "rows = pv_power.shape[0] \n",
    "rows"
   ]
  },
  {
   "cell_type": "markdown",
   "metadata": {},
   "source": [
    "5. You can also quickly look at the data types of each of our columns:\n",
    "- each column has a single data type\n",
    "- Pandas has figured out some of our column's data types for us"
   ]
  },
  {
   "cell_type": "code",
   "execution_count": null,
   "metadata": {},
   "outputs": [],
   "source": [
    "pv_power.dtypes"
   ]
  },
  {
   "cell_type": "markdown",
   "metadata": {},
   "source": [
    "6. Last but not least, get basic statistics about our DataFrame! `<dataframe_name>.describe` - a pretty useful method which generates summary statistics of the columns:"
   ]
  },
  {
   "cell_type": "code",
   "execution_count": null,
   "metadata": {},
   "outputs": [],
   "source": [
    "pv_power.describe()"
   ]
  },
  {
   "cell_type": "markdown",
   "metadata": {},
   "source": [
    "### Exercise\n",
    "<br> \n",
    "\n",
    "Alright, let's practise! &#128512;"
   ]
  },
  {
   "cell_type": "code",
   "execution_count": null,
   "metadata": {},
   "outputs": [],
   "source": [
    "import pandas as pd\n",
    "\n",
    "pv_power = pd.read_csv(\"./data/energy/ods087.csv\", sep = ';')"
   ]
  },
  {
   "cell_type": "markdown",
   "metadata": {},
   "source": [
    "1. Get the last **25 rows** of the DataFrame `pv_power`:"
   ]
  },
  {
   "cell_type": "code",
   "execution_count": null,
   "metadata": {},
   "outputs": [],
   "source": [
    "# replace this line with your solution"
   ]
  },
  {
   "cell_type": "markdown",
   "metadata": {},
   "source": [
    "2. Get the **number of columns** in the DataFrame `pv_power`, save this as a new variable called `columns` and then print the result:"
   ]
  },
  {
   "cell_type": "code",
   "execution_count": null,
   "metadata": {},
   "outputs": [],
   "source": [
    "# replace this line with your solution"
   ]
  },
  {
   "cell_type": "markdown",
   "metadata": {},
   "source": [
    "## Extra resources\n",
    "<br/>\n",
    "\n",
    "To know more about Pandas Series and DataFrame, please visit:\n",
    "- [Pandas Series vs. DataFrame](https://composingprograms.com/pages/14-designing-functions.html)"
   ]
  }
 ],
 "metadata": {
  "kernelspec": {
   "display_name": "Python 3",
   "language": "python",
   "name": "python3"
  },
  "language_info": {
   "codemirror_mode": {
    "name": "ipython",
    "version": 3
   },
   "file_extension": ".py",
   "mimetype": "text/x-python",
   "name": "python",
   "nbconvert_exporter": "python",
   "pygments_lexer": "ipython3",
   "version": "3.11.4"
  }
 },
 "nbformat": 4,
 "nbformat_minor": 4
}
