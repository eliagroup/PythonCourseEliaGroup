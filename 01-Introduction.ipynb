{
 "cells": [
  {
   "cell_type": "markdown",
   "metadata": {},
   "source": [
    "<br>\n",
    "\n",
    "<img src=\"./image/Logo/logo_elia_group.png\" width = 200>\n",
    "\n",
    "<br>"
   ]
  },
  {
   "cell_type": "markdown",
   "metadata": {},
   "source": [
    "# Hi there!\n",
    "<br>\n",
    "\n",
    "**Welcome!** You are about to learn one of the most popular and important programming languages: Python. The following Python training is an Elia Group inhouse training that we designed to empower everyone who wants to learn Python and improve their coding skills. Elia Group is one of the top 5 leading transmission system operators in Europe with its two TSOs - Elia in Belgium and 50Hertz in Germany. In addition, Elia Group participates in the Nemo Link joint venture that operates the interconnector between Belgium and the United Kingdom. Get to know the players of the energy landscape and what is the role of the TSO [in 2 minutes.](https://intranet.eliagroup.eu/video-content/52118/energy-players-subtitle-fr) <br>\n",
    "\n",
    "In line with our commitment to transparency and openness, we decided to give everyone, internal and external, access to our training. Because we believe in sharing knowledge and supporting each another. This is why this training is now available as an open source training. **Have fun and enjoy**.\n"
   ]
  },
  {
   "cell_type": "markdown",
   "metadata": {},
   "source": [
    "# What will this course cover? &#128640;\n",
    "\n",
    "<br>\n",
    "\n",
    "During this training, you will...\n",
    "\n",
    "1.) get an **introduction into the basic programming concepts** of Python (Chapter `02-Intro_run_code.ipynb` to `16-Functions_how_to_write.ipynb`)\n",
    "\n",
    "2.) learn **how to** use Pandas to **analyze and manipulate your data** (Chapter `20-Pandas_intro.ipynb` to `27-Pandas_advanced_manipulation.ipynb`)\n",
    "\n",
    "3.) **visualize your insights** (Chapter `30-Pandas_visualization.ipynb`)\n",
    "\n",
    "and more ... &#128526;\n",
    "\n",
    "\n"
   ]
  },
  {
   "cell_type": "markdown",
   "metadata": {},
   "source": [
    "# Introduction to Python \n",
    "\n",
    "## What is Python?\n",
    "<br>\n",
    "Python is an extremely flexible programming language with a massive community of users. You can use Python for:\n",
    "<ul>\n",
    "    <li>Machine Learning and AI </li>\n",
    "    <li>Web Development </li>\n",
    "    <li>Automation </li>\n",
    "    <li>... and of course Data Science! </li>\n",
    "<ul>"
   ]
  },
  {
   "cell_type": "markdown",
   "metadata": {},
   "source": [
    "## Why is Python your go-to language?\n",
    "<br>\n",
    "As you can see, python is a real all-round talent. However, this is true for many other programming languages, like Java and C. So what makes python worth learning over another language?\n",
    "\n",
    "1. **Data Science**: The answer depends on what you plan to do with programming. For data analysis tasks and data science, python is the [run-away favorite](https://www.zdnet.com/education/computers-tech/top-programming-language-for-data-science-python-still-rules-followed-by-sql/).\n",
    "2. **Easy to learn**: Additionally, it is loved as a first language to learn given the goals its creators had in mind. Python was invented in 1990 by Guido van Rossum and was specifically designed for programmers (not computers). Here is a quote from Guido about what he tried to keep in mind when creating the language:\n",
    "\n",
    "> \"So I set out to come up with a language that made programmers more productive, and if that meant that the programs would run a bit slower, well, that was an acceptable trade-off.\" - Van Rossum\n",
    "\n",
    "3. **Community**: The massive community is also a huge plus, since they are there to help and support you. You'll see!\n"
   ]
  },
  {
   "cell_type": "markdown",
   "metadata": {},
   "source": [
    "## Why is learning Python important for people working in energy? &#127795;\n",
    "<br>\n",
    "\n",
    "The current **energy transition** is characterized by a fundamental paradigm shift towards “demand follows generation”. What does this mean? In the past, there has been a few centralized systems (coal power, nuclear) with few producers consumed by typical consumers such as households. Today, there is a growing number of so-called prosumers (producers and consumers) like households, that produce electricity themselves and the grid or cars, that store electricity. This prosumer centricity leads to many more new and unstructured data - and this is where Python is at its best! **With Python, we can make sense of the increased complexity.**"
   ]
  },
  {
   "cell_type": "markdown",
   "metadata": {},
   "source": [
    "<br>\n",
    "\n",
    "<center><img src=\"./image/energy_transition_.png\" width=\"1400\"></center>\n",
    "\n",
    "<br>"
   ]
  },
  {
   "cell_type": "markdown",
   "metadata": {},
   "source": [
    "### An Energy Use Case\n",
    "\n",
    "One major task of grid operations is to balance the grid, that means ensuring that the production equals the consumption of energy.This task requires an accurate forecast of the consumption as well as of the production to have as little unplanned fluctuations as possible - an ideal task for data science! With data science, you can provide models to improve forecasting and therefore save lots of money and stress. Data Science helps you to predict how much electricity will be produced and consumed tomorrow. Learn more about forecasting with data science and AI [here](https://innovation.eliagroup.eu/projects/open-innovation-challenge-2018-for-startups/)."
   ]
  }
 ],
 "metadata": {
  "kernelspec": {
   "display_name": "Python 3",
   "language": "python",
   "name": "python3"
  },
  "language_info": {
   "codemirror_mode": {
    "name": "ipython",
    "version": 3
   },
   "file_extension": ".py",
   "mimetype": "text/x-python",
   "name": "python",
   "nbconvert_exporter": "python",
   "pygments_lexer": "ipython3",
   "version": "3.11.4"
  }
 },
 "nbformat": 4,
 "nbformat_minor": 4
}
