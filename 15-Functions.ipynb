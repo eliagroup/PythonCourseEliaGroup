{
 "cells": [
  {
   "cell_type": "markdown",
   "metadata": {},
   "source": [
    "<br>\n",
    "\n",
    "<img src=\"./image/Logo/logo_elia_group.png\" width = 200>\n",
    "\n",
    "<br>"
   ]
  },
  {
   "cell_type": "markdown",
   "metadata": {},
   "source": [
    "# What are functions?\n",
    "<br> \n",
    "\n",
    "Do you recall the two fundamental building blocks of programming from the first chapter? Recall that these are data and functions. In the last chapters, we have looked both at data types, and on how to bring data into our Python environment. Now we pivot to looking at functions. Functions act on or change bits of data. Like a juicer - you put in your raw ingridients, press play, the juicer does its magic and as an output you have a fresh, healthy juice. \n",
    "<br>\n",
    "\n",
    "But let's get serious. Functions allow us to...\n",
    "- reuse code - a bad pattern in programming is to duplicate code\n",
    "- test code\n",
    "- make code readable\n",
    "- control scope\n",
    "\n",
    "**Functional decomposition** is a key skill of a programmer. Functional decomposition means figuring out which pieces of code fit together in a function. Generally, a good rule of thumb is to try to make each function do just one thing but do it well. Functions shouldn't be very long - as general guideline not more than 20 lines."
   ]
  },
  {
   "cell_type": "markdown",
   "metadata": {},
   "source": [
    "## Writing Functions\n",
    "<br>\n",
    "Components of functions:\n",
    "- Inputs &#8594; **Parameters** or **Arguments**\n",
    "- Output &#8594; **Return**\n",
    "- Computation &#8594; Where you transform the input to the output format.\n",
    "\n",
    "<br>\n",
    "\n",
    "Let's get right to it! In the follwing cell you define a function called `adder`, which, as an input, receives two values called `first_value` and `second_value`. In the second line of code, you can see what the function actually does: it adds those two values and returns (third line) the result."
   ]
  },
  {
   "cell_type": "code",
   "execution_count": 1,
   "metadata": {},
   "outputs": [],
   "source": [
    "def adder(first_value, second_value):\n",
    "    result = first_value + second_value\n",
    "    return result"
   ]
  },
  {
   "cell_type": "markdown",
   "metadata": {},
   "source": [
    "You just defined your first function called `adder()`. Congrats! It's time to test it:"
   ]
  },
  {
   "cell_type": "code",
   "execution_count": null,
   "metadata": {},
   "outputs": [],
   "source": [
    "a = 1\n",
    "b = 2 \n",
    "\n",
    "c = adder(a, b)\n",
    "print(c)"
   ]
  },
  {
   "cell_type": "markdown",
   "metadata": {},
   "source": [
    "Well done! &#128077;"
   ]
  },
  {
   "cell_type": "markdown",
   "metadata": {},
   "source": [
    "The **syntax** to define a function therefore is the follwing: "
   ]
  },
  {
   "cell_type": "markdown",
   "metadata": {},
   "source": [
    "`def function_name(input_values):\n",
    "    computation\n",
    "    return function_output`"
   ]
  },
  {
   "cell_type": "markdown",
   "metadata": {},
   "source": [
    "## Parameters\n",
    "<br>\n",
    "\n",
    "Parameters are the things you put into a function - the input so to say. In the example above it was `first_value` and `second_value`. You put your parameters between the parentheses. Sometimes you will read about arguments or args. Arguments are almost the same as parameters - only that you define your parameters when you define your function and hand over arguments, when actually using the function. <br> There are two types of parameters: \n",
    "\n",
    "1. Positional parameters \n",
    "2. Keyword parameters \n",
    "\n",
    "### Positional parameters\n",
    "<br>\n",
    "Positional parameters are based on the order they appear within the (). If we have more than two parameters, we need to define which one does what. What does this mean? The following example makes it very clear: "
   ]
  },
  {
   "cell_type": "code",
   "execution_count": 3,
   "metadata": {},
   "outputs": [],
   "source": [
    "def subtracter(first, second):\n",
    "    return first - second"
   ]
  },
  {
   "cell_type": "markdown",
   "metadata": {},
   "source": [
    "See, sometimes it can be super important to define which parameter is the first and which the second. "
   ]
  },
  {
   "cell_type": "markdown",
   "metadata": {},
   "source": [
    "If you just provide 2 numbers, python will assume the first number is \"a\" and the second number is \"b\". So it will use the order in which they are defined in the function header."
   ]
  },
  {
   "cell_type": "code",
   "execution_count": null,
   "metadata": {},
   "outputs": [],
   "source": [
    "subtracter(3,2)"
   ]
  },
  {
   "cell_type": "markdown",
   "metadata": {},
   "source": [
    "If you want to provide \"b\" first and \"a\" second you have to explicitly name the parameters when you give them to the function:"
   ]
  },
  {
   "cell_type": "code",
   "execution_count": null,
   "metadata": {},
   "outputs": [],
   "source": [
    "subtracter(second=2, first=3)"
   ]
  },
  {
   "cell_type": "markdown",
   "metadata": {},
   "source": [
    "### Exercise\n",
    "- Update the function `subtracter()` to take a third number to subtract"
   ]
  },
  {
   "cell_type": "code",
   "execution_count": 7,
   "metadata": {},
   "outputs": [],
   "source": [
    "# delete this line and replace it with your solution"
   ]
  },
  {
   "cell_type": "markdown",
   "metadata": {},
   "source": [
    "### Keyword parameters\n",
    "<br>\n",
    "\n",
    "In this case, the order or position does not matter. Rather, keyword parameters are based on their name. A bit similar to assigning variables. \n",
    "\n",
    "Keyword parameters...\n",
    "- have defaults\n",
    "- use keyword args (arguments) to enable functionality\n",
    "\n",
    "Let's check them out. First, we define a function called `subtracter()`. Within the parentheses we use keyword parameters:"
   ]
  },
  {
   "cell_type": "code",
   "execution_count": 8,
   "metadata": {},
   "outputs": [],
   "source": [
    "def subtracter(first=4, second=2):\n",
    "    return first - second"
   ]
  },
  {
   "cell_type": "markdown",
   "metadata": {},
   "source": [
    "The default values allow us to run the function without input:"
   ]
  },
  {
   "cell_type": "code",
   "execution_count": null,
   "metadata": {},
   "outputs": [],
   "source": [
    "subtracter()"
   ]
  },
  {
   "cell_type": "markdown",
   "metadata": {},
   "source": [
    "We can use keyword args to enable functionality: "
   ]
  },
  {
   "cell_type": "code",
   "execution_count": 10,
   "metadata": {},
   "outputs": [],
   "source": [
    "def subtracter(first=4, second=2, explain=False):\n",
    "    result = first - second\n",
    "    \n",
    "    if explain:\n",
    "        print(first, second, result)\n",
    "        \n",
    "    return result"
   ]
  },
  {
   "cell_type": "code",
   "execution_count": 11,
   "metadata": {},
   "outputs": [],
   "source": [
    "res = subtracter(8, 4)"
   ]
  },
  {
   "cell_type": "code",
   "execution_count": null,
   "metadata": {},
   "outputs": [],
   "source": [
    "res_1 = subtracter(8, 4, explain=True)"
   ]
  },
  {
   "cell_type": "markdown",
   "metadata": {},
   "source": [
    "## Scope\n",
    "<br>\n",
    "\n",
    "In Python, there are global and local scope variables. A **local scope** variable only appears in the function. **It's value changes with every new input to the function**.\n",
    "A local scope variable is made during the function call, which disapears after the function ends. <br> Check out the following example and see, whether you can find out which variable is the local scope variable: "
   ]
  },
  {
   "cell_type": "code",
   "execution_count": 13,
   "metadata": {},
   "outputs": [],
   "source": [
    "#  global scope\n",
    "y = 5 \n",
    "\n",
    "def simple():\n",
    "    #  local scope\n",
    "    x = 10\n",
    "    return x * 2"
   ]
  },
  {
   "cell_type": "code",
   "execution_count": null,
   "metadata": {},
   "outputs": [],
   "source": [
    "print(y)"
   ]
  },
  {
   "cell_type": "code",
   "execution_count": null,
   "metadata": {},
   "outputs": [],
   "source": [
    "print(x)"
   ]
  },
  {
   "cell_type": "markdown",
   "metadata": {},
   "source": [
    "Exactly! `x` in this case is the local scope variable. You cannot call it outside the function, it only exists in it."
   ]
  },
  {
   "cell_type": "code",
   "execution_count": null,
   "metadata": {},
   "outputs": [],
   "source": [
    "simple()"
   ]
  },
  {
   "cell_type": "markdown",
   "metadata": {},
   "source": [
    "However, you can of course call the function with its default values. "
   ]
  },
  {
   "cell_type": "markdown",
   "metadata": {},
   "source": [
    "## Documentation\n",
    "<br>"
   ]
  },
  {
   "cell_type": "markdown",
   "metadata": {},
   "source": [
    "In order for others (and maybe yourself) to later understand what your function does and for instance, to document which input it receives, you can add an explanation to your function. This is done with \"\"\"documentation\"\"\", also called Docstring."
   ]
  },
  {
   "cell_type": "code",
   "execution_count": 17,
   "metadata": {},
   "outputs": [],
   "source": [
    "def test(a,b): \n",
    "    \"\"\"\n",
    "    Function to add or two values.\n",
    "    Args:\n",
    "        a: Can be an either numeric value (float or int) or a string. \n",
    "        b: Can be an either numeric value (float or int) or a string.\n",
    "    Returns:\n",
    "        added: In case of two numeric values, it adds them. In case of strings, it concatenates them. \n",
    "    \"\"\"\n",
    "    added = a+b\n",
    "    return added"
   ]
  },
  {
   "cell_type": "markdown",
   "metadata": {},
   "source": [
    "## Extra resources\n",
    "To know more about functions and its good practices read:\n",
    "- [Functions good practices](https://blog.devgenius.io/python-best-practices-for-writing-functions-b56a86d43fb6)\n",
    "- [Designing functions](https://composingprograms.com/pages/14-designing-functions.html)"
   ]
  }
 ],
 "metadata": {
  "kernelspec": {
   "display_name": "Python 3",
   "language": "python",
   "name": "python3"
  },
  "language_info": {
   "codemirror_mode": {
    "name": "ipython",
    "version": 3
   },
   "file_extension": ".py",
   "mimetype": "text/x-python",
   "name": "python",
   "nbconvert_exporter": "python",
   "pygments_lexer": "ipython3",
   "version": "3.11.4"
  }
 },
 "nbformat": 4,
 "nbformat_minor": 4
}
