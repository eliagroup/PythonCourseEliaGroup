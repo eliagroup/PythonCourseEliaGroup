{
 "cells": [
  {
   "cell_type": "markdown",
   "metadata": {},
   "source": [
    "<br>\n",
    "\n",
    "<img src=\"./image/Logo/logo_elia_group.png\" width = 200>\n",
    "\n",
    "<br>"
   ]
  },
  {
   "cell_type": "markdown",
   "metadata": {},
   "source": [
    "# Cheat Sheet\n",
    "<br>\n",
    "\n",
    "Well done! You have successfully completed your Python training. This cheat sheet is made to support you during your next steps towards working with data. It includes all the little tips and tricks around Python, its most important libraries and some important syntaxes. Have fun! 🙌"
   ]
  },
  {
   "cell_type": "markdown",
   "metadata": {},
   "source": [
    "<img src=\"./image/cheat_sheet_icon.png\" width = 100>"
   ]
  },
  {
   "cell_type": "markdown",
   "metadata": {},
   "source": [
    "<div class=\"alert alert-block alert-success\">\n",
    "\n",
    "**Variables and Data Types**\n",
    "        \n",
    "</div>"
   ]
  },
  {
   "cell_type": "markdown",
   "metadata": {},
   "source": [
    "<table>\n",
    "<tr>\n",
    "    <td><b> Data Types </b></td>\n",
    "    <td><b> Type Conversion </b></td>\n",
    "    <td><b> Example </b></td>\n",
    "</tr>\n",
    "<tr>\n",
    "<td> String </td>\n",
    "<td> str() </td>\n",
    "<td> 'Data Science' </td>\n",
    "</tr>\n",
    "<tr>\n",
    "<td> Integer </td>\n",
    "<td> int() </td>\n",
    "<td> 11, 2, 9 </td>\n",
    "</tr>\n",
    "<tr>\n",
    "<td> Float </td>\n",
    "<td> float() </td>\n",
    "<td> 11.0, 2.0, 9.0 </td>\n",
    "</tr>\n",
    "<tr>\n",
    "<td> Boolean </td>\n",
    "<td> bool() </td>\n",
    "<td> True, False </td>\n",
    "</tr>\n",
    "<tr>\n",
    "<td> List </td>\n",
    "<td> list() </td>\n",
    "<td> list = [\"a\",\"b\", 2.0, 3] &#128161; index starts at 0 </td>\n",
    "</tr>\n",
    "<tr>\n",
    "<td> Dictionary </td>\n",
    "<td> / </td>\n",
    "<td> {key1: value1, key2: value2} </td>\n",
    "</tr>\n",
    "</table>"
   ]
  },
  {
   "cell_type": "markdown",
   "metadata": {},
   "source": [
    "<div class=\"alert alert-block alert-success\">\n",
    "\n",
    "**Working with Data Types**\n",
    "        \n",
    "</div>"
   ]
  },
  {
   "cell_type": "markdown",
   "metadata": {},
   "source": [
    "**For loops**: iterate through lists, or rows in a table with data. <br>\n",
    "- Example: <br>\n",
    "```\n",
    "list = [1, 5, 8, 12, 6]\n",
    "for number in list:\n",
    "    print(number)`\n",
    "```\n",
    "\n",
    "\n",
    "\n"
   ]
  },
  {
   "cell_type": "markdown",
   "metadata": {},
   "source": [
    "**Conditional** statements work like the \"IF..THEN..\" command from Microsoft Excel. With **elif** you can add almost infinite layers to your condition statement. <br>\n",
    "\n",
    "- Example: \n",
    "<br> \n",
    "```\n",
    "x = 12 \n",
    "if x < 10:\n",
    "    print('X is less than 10')\n",
    "elif x == 10:\n",
    "    print('X is equal to 10')\n",
    "else:\n",
    "    print ('X is greater than 10')\n",
    "```"
   ]
  },
  {
   "cell_type": "markdown",
   "metadata": {},
   "source": [
    "<div class=\"alert alert-block alert-success\">\n",
    "\n",
    "**Libraries and Importing Files**\n",
    "        \n",
    "</div>"
   ]
  },
  {
   "cell_type": "code",
   "execution_count": 1,
   "metadata": {},
   "outputs": [],
   "source": [
    "import pandas as pd\n",
    "import numpy as np"
   ]
  },
  {
   "cell_type": "markdown",
   "metadata": {},
   "source": [
    "You can import **text files** and **CSVs** easily \n",
    "- if you import .txt files, you need to insert the right path `open(\"./folder_name/file_name.txt\", 'r')`\n",
    "- to import csv files, you need to import pandas first: `import pandas as pd`\n",
    "    - then you can use the read_csv() function: `pd.read_csv(\"./folder_name/file_name.csv\")`"
   ]
  },
  {
   "cell_type": "markdown",
   "metadata": {},
   "source": [
    "<div class=\"alert alert-block alert-success\">\n",
    "\n",
    "**Functions**\n",
    "        \n",
    "</div>"
   ]
  },
  {
   "cell_type": "markdown",
   "metadata": {},
   "source": [
    "The syntax to define a function is the following: \n",
    "<br>\n",
    "```\n",
    "def function_name(input_values):\n",
    "    computation\n",
    "    return function_output\n",
    "```\n",
    "&#128161; Remember, that a **local scope** variable only exists **in** the function."
   ]
  },
  {
   "cell_type": "markdown",
   "metadata": {},
   "source": [
    "<div class=\"alert alert-block alert-success\">\n",
    "\n",
    "**DataFrames: First steps**\n",
    "        \n",
    "</div>"
   ]
  },
  {
   "cell_type": "markdown",
   "metadata": {},
   "source": [
    "To work with DataFrames you need to `import pandas as pd`. <br>\n",
    "You can create Pandas DataFrames from Python lists or dictionaries: <br>\n",
    "- Syntax: `df = pd.DataFrame(list_name, columns = [\"column_1\", \"column_2\"])`\n",
    "\n",
    "Take a look at your data using with: \n",
    "- `df.head()`\n",
    "- `df.tail()`\n",
    "- `df.shape`\n",
    "- `df.dtypes`\n",
    "\n",
    "Select column using: \n",
    "- `df[\"column_name\"]` or `df.column_name`"
   ]
  },
  {
   "cell_type": "markdown",
   "metadata": {},
   "source": [
    "<div class=\"alert alert-block alert-success\">\n",
    "\n",
    "**DataFrames: Precise Selection by Row or Column**\n",
    "        \n",
    "</div>"
   ]
  },
  {
   "cell_type": "markdown",
   "metadata": {},
   "source": [
    "- `df.loc` gets rows (or columns) by searching for **labels**\n",
    "- `df.iloc` gets rows (or columns) works **positionally** with numbers (in our case the index)\n",
    "\n",
    "<br>\n",
    "\n",
    "&#128161; When using `loc` and `iloc`, the **row is always 1st** and **column is always second!**\n",
    "\n",
    "`[start_row : end_row, start_column : end_column]`"
   ]
  },
  {
   "cell_type": "markdown",
   "metadata": {},
   "source": [
    "<div class=\"alert alert-block alert-success\">\n",
    "\n",
    "**Data Cleaning & Manipulation**\n",
    "        \n",
    "</div>"
   ]
  },
  {
   "cell_type": "markdown",
   "metadata": {},
   "source": [
    "**Missing Values**\n",
    "1. Identifying missing values: <br>\n",
    "    - `pandas.DataFrame.isnull().any().any()` or `pandas.DataFrame.isnull().any()` and `pandas.DataFrame.isnull().sum()`\n",
    "\n",
    "2. Drop missing values: <br>\n",
    "    - `pandas.DataFrame.dropna(subset=['column_name'])`\n",
    "\n",
    "3. Replace missing values e.g. with `unknown`: <br>\n",
    "    - `pandas.DataFrame.fillna('unknown')`"
   ]
  },
  {
   "cell_type": "markdown",
   "metadata": {},
   "source": [
    "**Quick Statistics**\n",
    "\n",
    "- `pandas.DataFrame[\"column_name\"].value_counts()`\n",
    "- `pandas.DataFrame[\"column_name\"].unique()`\n",
    "- `pandas.DataFrame[\"column_name\"].describe()`\n",
    "- `pandas.DataFrame[\"column_name\"].min()`\n",
    "- `pandas.DataFrame[\"column_name\"].max()`\n",
    "- `pandas.DataFrame[\"column_name\"].mean()`\n",
    "- `pandas.DataFrame[\"column_name\"].median()`\n",
    "\n",
    "**Filtering and Groupby**\n",
    "- `pandas.DataFrame[pandas.DataFrame[\"column_name\"] == \"value_name\"]`\n",
    "- multiple filters can be added with `|` statement\n",
    "- &#128161; groupby() only works with an aggregator\n",
    "- `pandas.DataFrame.groupby(\"column_name\").aggregator()` \n",
    "    - example: `energy_flow.groupby(\"Control area\").mean()`\n",
    "    - aggregators: `sum(), mean(), max(), min()`"
   ]
  },
  {
   "cell_type": "markdown",
   "metadata": {},
   "source": [
    "<div class=\"alert alert-block alert-success\">\n",
    "\n",
    "**Advanced Manipulation**\n",
    "        \n",
    "</div>"
   ]
  },
  {
   "cell_type": "markdown",
   "metadata": {},
   "source": [
    "**Apply Functions with apply()**\n",
    "- You can use `apply()` to apply functions on Pandas Series and DataFrames\n",
    "    - Syntax: \n",
    "        - `series_name.apply(function_name)`\n",
    "        - `df_name.apply(function, axis = 1)`\n",
    "    - In a DataFrame, you can loop through rows and columns, but you need to specify the axis: \n",
    "        - axis = 0 for column \n",
    "        - axis = 1 for row\n",
    "<br>\n",
    "\n",
    "**Vectorization**\n",
    "\n",
    "- import numpy as np\n",
    "- speeds up the process \n",
    "    - `np.where()` is like the \"if statement\" in Excel\n",
    "    - Syntax: \n",
    "           np.where(\n",
    "                conditional statement -> bool array,\n",
    "                series/array/function()/scalar if True,\n",
    "                series/array/function()/scalar if False\n",
    "           )\n",
    "\n",
    "    - `np.select()` for multiple conditions\n",
    "    - Syntax: \n",
    "        conditions = [\n",
    "            condition1\n",
    "            condition2\n",
    "            etc.\n",
    "        ]\n",
    "\n",
    "        choices = [\n",
    "            value1\n",
    "            value2\n",
    "            etc.\n",
    "        ]\n",
    "    - `pandas.DataFrame[\"new column\"] = np.select(conditions, choices, default=\"NA\")`\n",
    "           "
   ]
  },
  {
   "cell_type": "markdown",
   "metadata": {},
   "source": [
    "<div class=\"alert alert-block alert-success\">\n",
    "\n",
    "**Datetime**\n",
    "        \n",
    "</div>"
   ]
  },
  {
   "cell_type": "markdown",
   "metadata": {},
   "source": [
    "**DateTimeIndex** <br>\n",
    "Turn Datetime column into DatetimeIndex while uploading your data:\n",
    "1. Set `parse_dates` parameter to `= True`. \n",
    "2. Set `index_col` to `= 0`\n",
    "- Example: \n",
    "    - `pd.read_csv(\"./data/energy/elia_load_2019_01_15.csv\", sep = \";\", parse_dates = True, index_col = 0)`"
   ]
  },
  {
   "cell_type": "markdown",
   "metadata": {},
   "source": [
    "**pd.to_datetime()**\n",
    "- keeps Datetime as column but convert to Datetime object \n",
    "- Syntax: \n",
    "    - `df_name[\"Datetime\"] = pd.to_datetime(df_name[\"Datetime\"])`"
   ]
  },
  {
   "cell_type": "markdown",
   "metadata": {},
   "source": [
    "<div class=\"alert alert-block alert-success\">\n",
    "\n",
    "**Data Visualization**\n",
    "        \n",
    "</div>"
   ]
  },
  {
   "cell_type": "markdown",
   "metadata": {},
   "source": [
    "**Quick Visualization**\n",
    "- `pandas.DataFrame.plot(x = \"column_1\", y = \"column_2\")`\n",
    "\n",
    "**Matplotlib**\n",
    "- `import matplotlib.pyplot as plt`\n",
    "- Works with `fig, ax = plt.subplots()`\n",
    "- See [documentation](https://matplotlib.org/stable/tutorials/introductory/usage.html#sphx-glr-tutorials-introductory-usage-py)\n",
    "\n",
    "**Seaborn**\n",
    "- `import matplotlib.pyplot as plt\n",
    "import seaborn as sns`\n",
    "- See [documentation](https://seaborn.pydata.org/introduction.html)\n",
    "\n",
    "**Plotly Express**\n",
    "- Interactive plots by default\n",
    "- `import pandas as pd\n",
    "import plotly.express as px`\n",
    "- See [docmentation](https://plotly.com/python-api-reference/plotly.express.html)\n",
    "- Syntax: \n",
    "    - `fig  = px.bar(data_frame = df_name, x = \"column_1\", y = \"column_2\", title = \"plot_title\")\n",
    "fig.show()\n",
    "print(fig)`"
   ]
  }
 ],
 "metadata": {
  "kernelspec": {
   "display_name": "Python 3",
   "language": "python",
   "name": "python3"
  },
  "language_info": {
   "codemirror_mode": {
    "name": "ipython",
    "version": 3
   },
   "file_extension": ".py",
   "mimetype": "text/x-python",
   "name": "python",
   "nbconvert_exporter": "python",
   "pygments_lexer": "ipython3",
   "version": "3.11.4"
  }
 },
 "nbformat": 4,
 "nbformat_minor": 4
}
