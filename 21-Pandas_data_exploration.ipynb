{
 "cells": [
  {
   "cell_type": "markdown",
   "metadata": {},
   "source": [
    "<br>\n",
    "\n",
    "<img src=\"./image/Logo/logo_elia_group.png\" width = 200>\n",
    "\n",
    "<br>"
   ]
  },
  {
   "cell_type": "markdown",
   "metadata": {},
   "source": [
    "# Initial Data Exploration \n",
    "<br> \n",
    "\n",
    "In the following subsection, you will learn how to **select** data and **slice** your data set. Anyone who has worked with data knows how important it is to be able to select particular columns or rows or to slice your data into specific pieces. In data science, slicing means to precisely select certain data snippets by row or column.\n",
    "<br/> \n",
    "\n",
    "Let's get started by importing Pandas and read another data set of *photovoltaic power production estimation and forecast on the Belgian grid* from a `csv` file into a Pandas DataFrame:"
   ]
  },
  {
   "cell_type": "code",
   "execution_count": null,
   "metadata": {},
   "outputs": [],
   "source": [
    "import pandas as pd\n",
    "\n",
    "pv_power = pd.read_csv(\"./data/energy/ods032.csv\", sep = ';')\n",
    "pv_power"
   ]
  },
  {
   "cell_type": "markdown",
   "metadata": {},
   "source": [
    "## Selecting by column name\n",
    "There are actually two ways to select data by column name. <br>\n",
    "\n",
    "1. with `''` quotes"
   ]
  },
  {
   "cell_type": "code",
   "execution_count": null,
   "metadata": {},
   "outputs": [],
   "source": [
    "pv_power['Region']"
   ]
  },
  {
   "cell_type": "markdown",
   "metadata": {},
   "source": [
    "2. with a `.` dot as separator (**NOTE - ONLY works when column names have no spaces!**)"
   ]
  },
  {
   "cell_type": "code",
   "execution_count": null,
   "metadata": {},
   "outputs": [],
   "source": [
    "pv_power.Region"
   ]
  },
  {
   "cell_type": "markdown",
   "metadata": {},
   "source": [
    "\n",
    "You want to select two columns and just want to see the first three rows? No problem! You can also concatenate commands in Pandas. <br> \n",
    "Note, that if you want to select two columns of your dataframe, you need to pass them as a list: `df_name[[\"column_1\", \"column_2\"]]`."
   ]
  },
  {
   "cell_type": "code",
   "execution_count": null,
   "metadata": {},
   "outputs": [],
   "source": [
    "pv_power[[\"Region\", \"Monitored capacity\"]].head(n=3)"
   ]
  },
  {
   "cell_type": "markdown",
   "metadata": {},
   "source": [
    "### Exercise 📝\n",
    "\n",
    "1. Display the **column names** of the DataFrame.\n"
   ]
  },
  {
   "cell_type": "code",
   "execution_count": null,
   "metadata": {},
   "outputs": [],
   "source": [
    "# delete this line and replace it with your solution"
   ]
  },
  {
   "cell_type": "markdown",
   "metadata": {},
   "source": [
    "2. Select the columns `Resolution code` and `Datetime`.\n",
    "3. Display the **first 5 rows** of the selected columns."
   ]
  },
  {
   "cell_type": "code",
   "execution_count": null,
   "metadata": {},
   "outputs": [],
   "source": [
    "# delete this line and replace it with your solution"
   ]
  },
  {
   "cell_type": "markdown",
   "metadata": {},
   "source": [
    "## Slicing - Precise Selection by Row and Column\n",
    "- `df.loc` gets rows (or columns) with particular labels from the index.\n",
    "- `df.iloc` gets rows (or columns) at particular positions in the index so it only takes **integers**.\n",
    "\n",
    "<br>\n",
    "\n",
    "<div class=\"alert alert-block alert-warning\">\n",
    "\n",
    "&#128161; **When using `loc` and `iloc`, the row is ALWAYS 1st and column is ALWAYS second!!!**\n",
    "    \n",
    "</div>\n",
    "    \n",
    "<br>\n",
    "\n",
    "The syntax for both is `[start_row : end_row, start_column : end_column]`. \n",
    "\n",
    "If you put nothing for `start_row` and `end_row` (or `start_column` and `end_column`) but only a `:` then Python would select all rows and all columns, respectively.\n",
    "<br>\n",
    "\n",
    "For example, if you want to select the first 5 rows of `pv_power` with `iloc` then you use the following syntax:"
   ]
  },
  {
   "cell_type": "code",
   "execution_count": null,
   "metadata": {},
   "outputs": [],
   "source": [
    "pv_power.iloc[:5,:]"
   ]
  },
  {
   "cell_type": "markdown",
   "metadata": {},
   "source": [
    "Let's do the same thing with the `loc` syntax instead of `iloc` and check out what will happen: "
   ]
  },
  {
   "cell_type": "code",
   "execution_count": null,
   "metadata": {},
   "outputs": [],
   "source": [
    "pv_power.loc[:5,:]"
   ]
  },
  {
   "cell_type": "markdown",
   "metadata": {},
   "source": [
    "<br>\n",
    "Please take a break to spot the differences &#9749;!\n",
    "<br>"
   ]
  },
  {
   "cell_type": "markdown",
   "metadata": {},
   "source": [
    "Although, the syntax looks almost identical, there is a huge difference between these two commands and hence their output: \n",
    "\n",
    "- `iloc` works **positionally** with numbers (in our case the indexes)\n",
    "- `loc` searches for **labels**\n",
    "\n",
    "What does this mean? When you used `iloc` on `pv_power`, it selected the first five rows (from index 0 until index 4). When using `loc` though, you basically said \"I want to select all the rows until the **label** 5\". Which resulted in 6 rows, from index 0 until index 5!\n",
    "\n",
    "<br>\n",
    "\n",
    "<div class=\"alert alert-block alert-warning\">\n",
    "\n",
    "&#128161;\n",
    "**If you want to select multiple rows/columns that are not consecutive, you need to pass a list with the respectives names/indexes.** \n",
    "    \n",
    "**loc:** [[\"row1\", \"row5\", \"row8\"], [\"column2\", \"column5\", \"column6\"]]\n",
    "    \n",
    "**iloc:** [[1, 5, 8], [2, 5, 6]] \n",
    "</div>\n",
    "    \n",
    "<br>"
   ]
  },
  {
   "cell_type": "markdown",
   "metadata": {},
   "source": [
    "Let's recap by checking out the following examples:"
   ]
  },
  {
   "cell_type": "code",
   "execution_count": null,
   "metadata": {},
   "outputs": [],
   "source": [
    "pv_power.iloc[2:5,:3]"
   ]
  },
  {
   "cell_type": "code",
   "execution_count": null,
   "metadata": {},
   "outputs": [],
   "source": [
    "pv_power.loc[2:5, :\"Region\"]"
   ]
  },
  {
   "cell_type": "markdown",
   "metadata": {},
   "source": [
    "### Exercise 📝\n"
   ]
  },
  {
   "cell_type": "code",
   "execution_count": null,
   "metadata": {},
   "outputs": [],
   "source": [
    "import pandas as pd\n",
    "\n",
    "pv_power = pd.read_csv(\"./data/energy/ods032.csv\", sep = ';')\n",
    "pv_power"
   ]
  },
  {
   "cell_type": "markdown",
   "metadata": {},
   "source": [
    "\n",
    "1. Select the **first 7 rows**, and **first 2 columns** of `pv_power`, **positionally**.\n"
   ]
  },
  {
   "cell_type": "code",
   "execution_count": null,
   "metadata": {},
   "outputs": [],
   "source": [
    "# delete this line and replace it with your solution"
   ]
  },
  {
   "cell_type": "markdown",
   "metadata": {},
   "source": [
    "2. Select **rows** `10`, `15`, and `30`, and the **columns** `Resolution code` and `Region`.\n"
   ]
  },
  {
   "cell_type": "code",
   "execution_count": null,
   "metadata": {},
   "outputs": [],
   "source": [
    "# delete this line and replace it with your solution"
   ]
  },
  {
   "cell_type": "markdown",
   "metadata": {},
   "source": [
    "\n",
    "&#9200; Still time left? Then try this one:\n",
    "\n",
    "3. Select the **first 5 rows** and **columns** `Datetime` and `Monitored capacity` of the `pv_power` DataFrame. "
   ]
  },
  {
   "cell_type": "code",
   "execution_count": null,
   "metadata": {},
   "outputs": [],
   "source": [
    "# delete this line and replace it with your solution"
   ]
  },
  {
   "cell_type": "markdown",
   "metadata": {},
   "source": [
    "## Extra resources\n",
    "\n",
    "To know more about `iloc` and `loc`, please check out:\n",
    "- [iloc documentation](https://pandas.pydata.org/docs/reference/api/pandas.DataFrame.iloc.html)\n",
    "- [loc documentation](https://pandas.pydata.org/docs/reference/api/pandas.DataFrame.loc.html)"
   ]
  }
 ],
 "metadata": {
  "kernelspec": {
   "display_name": "Python 3",
   "language": "python",
   "name": "python3"
  },
  "language_info": {
   "codemirror_mode": {
    "name": "ipython",
    "version": 3
   },
   "file_extension": ".py",
   "mimetype": "text/x-python",
   "name": "python",
   "nbconvert_exporter": "python",
   "pygments_lexer": "ipython3",
   "version": "3.11.4"
  }
 },
 "nbformat": 4,
 "nbformat_minor": 4
}
