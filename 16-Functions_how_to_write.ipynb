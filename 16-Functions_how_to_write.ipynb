{
 "cells": [
  {
   "cell_type": "markdown",
   "metadata": {},
   "source": [
    "<br>\n",
    "\n",
    "<img src=\"./image/Logo/logo_elia_group.png\" width = 200>\n",
    "\n",
    "<br>"
   ]
  },
  {
   "cell_type": "markdown",
   "metadata": {},
   "source": [
    "## Exercise\n",
    "\n",
    "1. Write a function called `print_my_name` that'd print out your name when it gets called. Then call the function to test it."
   ]
  },
  {
   "cell_type": "code",
   "execution_count": 4,
   "metadata": {},
   "outputs": [],
   "source": [
    "# delete this line and replace it with your solution"
   ]
  },
  {
   "cell_type": "markdown",
   "metadata": {},
   "source": [
    "2. Write a function where you can multiply 2 numbers together, and add any number to it. Therefore...\n",
    "* name the function `multiply_adder`\n",
    "* handover three parameters\n",
    "* create a variable that multiplies two of them and\n",
    "* adds the third variable to the product variable \n",
    "* return the result\n",
    "* eventually call the function to test it"
   ]
  },
  {
   "cell_type": "code",
   "execution_count": null,
   "metadata": {},
   "outputs": [],
   "source": [
    "# delete this line and replace it with your solution"
   ]
  },
  {
   "cell_type": "markdown",
   "metadata": {},
   "source": [
    "3. Write a function to sum all the numbers in a list.\n",
    "* name the function `list_adder`\n",
    "* handover a list as parameters\n",
    "* initiate a variable called `answer` and assign it to 0\n",
    "* write a `for loop` that iterates through each item and adds it to your variable `answer`\n",
    "* return the answer variable\n",
    "* eventually call the function to test it."
   ]
  },
  {
   "cell_type": "code",
   "execution_count": null,
   "metadata": {},
   "outputs": [],
   "source": [
    "# delete this line and replace it with your solution"
   ]
  },
  {
   "cell_type": "markdown",
   "metadata": {},
   "source": [
    "### &#9200; Advanced Exercises\n",
    "\n",
    "1. Write a function to reverse a string. Sample String : \"1234abcd\"\n",
    "2. Write a function to multiply all the numbers in a list. Sample List : [8, 2, 3, -1, 7]\n",
    "3. Write a function to check whether a number is in a given range.\n",
    "4. Write a function that takes a list and returns a new list with unique elements of the first list. Sample List : [1,2,3,3,3,3,4,5] Unique List : [1, 2, 3, 4, 5]"
   ]
  },
  {
   "cell_type": "code",
   "execution_count": 5,
   "metadata": {},
   "outputs": [],
   "source": [
    "# delete this line and replace it with your solution"
   ]
  },
  {
   "cell_type": "markdown",
   "metadata": {},
   "source": [
    "<br>\n",
    "\n",
    "## Recap, Tips & Takeaways &#128161;\n",
    "\n",
    "<br>"
   ]
  },
  {
   "cell_type": "markdown",
   "metadata": {},
   "source": [
    "<div class=\"alert alert-block alert-success\">\n",
    "\n",
    "**Let's recap what you have learned in this chapter:**\n",
    "\n",
    "- You can define functions with the following syntax: <br>\n",
    "      `def function_name(input_values):\n",
    "            computation\n",
    "            return function_output`\n",
    "- Positional parameters are based on their position\n",
    "- Keyword parameters have defaults and are based on their name \n",
    "- A local scope variable only exists in the function\n",
    "        \n",
    "</div>"
   ]
  }
 ],
 "metadata": {
  "kernelspec": {
   "display_name": "Python 3",
   "language": "python",
   "name": "python3"
  },
  "language_info": {
   "codemirror_mode": {
    "name": "ipython",
    "version": 3
   },
   "file_extension": ".py",
   "mimetype": "text/x-python",
   "name": "python",
   "nbconvert_exporter": "python",
   "pygments_lexer": "ipython3",
   "version": "3.11.4"
  }
 },
 "nbformat": 4,
 "nbformat_minor": 4
}
