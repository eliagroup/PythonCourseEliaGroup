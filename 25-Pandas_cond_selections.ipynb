{
 "cells": [
  {
   "cell_type": "markdown",
   "metadata": {},
   "source": [
    "<br>\n",
    "\n",
    "<img src=\"./image/Logo/logo_elia_group.png\" width = 200>\n",
    "\n",
    "<br>"
   ]
  },
  {
   "cell_type": "markdown",
   "metadata": {},
   "source": [
    "# Conditional Selections: Filtering\n",
    "<br>\n",
    "\n",
    "One of the most beloved and useful functionality in Microsoft Excel is the filter function - and of course, you can do the same as well in Python. You can use conditional selections to select specific rows and narrow your analysis down. And to make things easier, you can save selections you plan to use often in their own variables. Let's get right to it!"
   ]
  },
  {
   "cell_type": "markdown",
   "metadata": {},
   "source": [
    "<img src= \"./image/conditional_selections.png\" width = 300>"
   ]
  },
  {
   "cell_type": "markdown",
   "metadata": {},
   "source": [
    "First, let's have a look at the dataset \"physical flow\" again: "
   ]
  },
  {
   "cell_type": "code",
   "execution_count": null,
   "metadata": {},
   "outputs": [],
   "source": [
    "import pandas as pd\n",
    "\n",
    "energy_flow = pd.read_csv(\"./data/energy/physical_flow_2021_1_01.csv\", sep = \";\", parse_dates = True, index_col = 0)\n",
    "energy_flow.head()"
   ]
  },
  {
   "cell_type": "markdown",
   "metadata": {},
   "source": [
    "As you can see, the data set describes different physical flow values from different countries (the neighbouring bidding zones of Belgium), measured at similar date and times.\n",
    "Let's check which countries are represented here:"
   ]
  },
  {
   "cell_type": "code",
   "execution_count": null,
   "metadata": {},
   "outputs": [],
   "source": [
    "energy_flow[\"Control area\"].unique()"
   ]
  },
  {
   "cell_type": "markdown",
   "metadata": {},
   "source": [
    "Imagine you want to take a closer look at France and Luxembourg. To do so, you need to select the column of interest and \"filter\" your area of choice with a conditional statement which returns either `True` or `False`. This is then used to filter your data set. "
   ]
  },
  {
   "cell_type": "code",
   "execution_count": null,
   "metadata": {},
   "outputs": [],
   "source": [
    "france = energy_flow[energy_flow[\"Control area\"] == \"France\"]\n",
    "luxembourg = energy_flow[energy_flow[\"Control area\"] == \"Luxembourg\"]"
   ]
  },
  {
   "cell_type": "code",
   "execution_count": null,
   "metadata": {},
   "outputs": [],
   "source": [
    "france.head(n=3)"
   ]
  },
  {
   "cell_type": "code",
   "execution_count": null,
   "metadata": {},
   "outputs": [],
   "source": [
    "luxembourg.head(n=3)"
   ]
  },
  {
   "cell_type": "markdown",
   "metadata": {},
   "source": [
    "### Excercise\n",
    "\n",
    "1. Look at the DataFrame `energy_flow` above and select the **control area \"Germany\"**. \n",
    "2. Save your selection into a variable called `germany`.\n",
    "3. Look at the **first three rows** to see if it worked. "
   ]
  },
  {
   "cell_type": "code",
   "execution_count": null,
   "metadata": {},
   "outputs": [],
   "source": [
    "# delete this line and replace it with your solution"
   ]
  },
  {
   "cell_type": "markdown",
   "metadata": {},
   "source": [
    "Since the data set includes hourly data from one day, you could calculate the **mean physical flow of that day per selected country**:"
   ]
  },
  {
   "cell_type": "code",
   "execution_count": null,
   "metadata": {},
   "outputs": [],
   "source": [
    "print('Mean Physical Flow of France in MW: ', round(france['Physical Flow Value'].mean()))"
   ]
  },
  {
   "cell_type": "code",
   "execution_count": null,
   "metadata": {},
   "outputs": [],
   "source": [
    "print('Mean Physical Flow of Luxembourg in MW: ', round(luxembourg['Physical Flow Value'].mean()))"
   ]
  },
  {
   "cell_type": "markdown",
   "metadata": {},
   "source": [
    "Since a positive figure means export from Belgium, you can now use these to calculate more targeted metrics: "
   ]
  },
  {
   "cell_type": "code",
   "execution_count": null,
   "metadata": {},
   "outputs": [],
   "source": [
    "print(f\"On that day, Belgium exports {round(france['Physical Flow Value'].mean() - luxembourg['Physical Flow Value'].mean(),2)} MW on average more to France compared to Luxembourg.\")"
   ]
  },
  {
   "cell_type": "markdown",
   "metadata": {},
   "source": [
    "## Advanced Conditionals: Using Masks \n",
    "<br>\n",
    "\n",
    "Sure, it is nice to filter just one thing. But what if you want **to filter on > 1 criteria**? Then it can be easier to use a mask.  No, not a face mask 😜! Rather a **boolean mask**. \n",
    "<br>\n",
    "\n",
    "Imagine you would like to not just select France OR Luxembourg, but **both** countries as well as Germany. With a mask, you specify these multiple conditions. Your mask evaluates the different conditions and returns either `TRUE` or `FALSE`. In a second step, this mask is used as a filter as you have already learned previously in Filtering.\n",
    "The pipe operator `|` is used as an OR whereas the `&` is used as an AND. But enough talking, let's try it out! "
   ]
  },
  {
   "cell_type": "markdown",
   "metadata": {},
   "source": [
    "1. Create a variable that stores all the conditions you would like to choose"
   ]
  },
  {
   "cell_type": "code",
   "execution_count": null,
   "metadata": {},
   "outputs": [],
   "source": [
    "countries_mask = (energy_flow[\"Control area\"] == \"France\") | (energy_flow[\"Control area\"] == \"Luxembourg\") | (energy_flow[\"Control area\"] == \"Germany\")"
   ]
  },
  {
   "cell_type": "markdown",
   "metadata": {},
   "source": [
    "2. Look at your mask. It returns whether your conditions have been met for each row or not"
   ]
  },
  {
   "cell_type": "code",
   "execution_count": null,
   "metadata": {},
   "outputs": [],
   "source": [
    "countries_mask"
   ]
  },
  {
   "cell_type": "markdown",
   "metadata": {},
   "source": [
    "3. Now you can directly access your mask, using: "
   ]
  },
  {
   "cell_type": "code",
   "execution_count": null,
   "metadata": {},
   "outputs": [],
   "source": [
    "selected_countries = energy_flow[countries_mask]"
   ]
  },
  {
   "cell_type": "code",
   "execution_count": null,
   "metadata": {},
   "outputs": [],
   "source": [
    "selected_countries[\"Control area\"].unique()"
   ]
  },
  {
   "cell_type": "markdown",
   "metadata": {},
   "source": [
    "Nice and well done! ✨ Let's create another mask just for fun. &#128526;\n",
    "\n",
    "Now we want to have all the data related to a physical flow that is **higher 1000 MW** and find out whether it is an import or an export. For that, let's have a look at the original DataFrame `energy_flow` again: "
   ]
  },
  {
   "cell_type": "code",
   "execution_count": null,
   "metadata": {},
   "outputs": [],
   "source": [
    "energy_flow.head()"
   ]
  },
  {
   "cell_type": "markdown",
   "metadata": {},
   "source": [
    "Let's define that in this case, a high physical flow means < - 1000 MW and > 1000 MW."
   ]
  },
  {
   "cell_type": "code",
   "execution_count": null,
   "metadata": {},
   "outputs": [],
   "source": [
    "high_flow_mask = (energy_flow[\"Physical Flow Value\"] < -1000) | (energy_flow[\"Physical Flow Value\"] > 1000)"
   ]
  },
  {
   "cell_type": "code",
   "execution_count": null,
   "metadata": {},
   "outputs": [],
   "source": [
    "high_flow_mask"
   ]
  },
  {
   "cell_type": "code",
   "execution_count": null,
   "metadata": {},
   "outputs": [],
   "source": [
    "high_flow = energy_flow[high_flow_mask]"
   ]
  },
  {
   "cell_type": "code",
   "execution_count": null,
   "metadata": {},
   "outputs": [],
   "source": [
    "high_flow.head()"
   ]
  },
  {
   "cell_type": "markdown",
   "metadata": {},
   "source": [
    "## Groupby\n",
    "<br> \n",
    "\n",
    "One of the most flexible ways to group your data and aggregate them in Pandas is using `.groupby()`. So what does this actually mean? Let's have a look at the following examples:"
   ]
  },
  {
   "cell_type": "code",
   "execution_count": null,
   "metadata": {},
   "outputs": [],
   "source": [
    "energy_flow.groupby('Control area').sum()"
   ]
  },
  {
   "cell_type": "code",
   "execution_count": null,
   "metadata": {},
   "outputs": [],
   "source": [
    "energy_flow.groupby('Control area')['Physical Flow Value'].mean()"
   ]
  },
  {
   "cell_type": "markdown",
   "metadata": {},
   "source": [
    "As you can see from the examples above, `.groupby()` groups your data by the column(s) that you hand over to the function. In this case \"Control area\". In addition, `.groupby()` **only works with an aggregator** such as `.sum()` or `.mean()`. This means, you have to tell the function what to do with each group. Please note that the **column you grouped on/by becomes your new index**!"
   ]
  },
  {
   "cell_type": "markdown",
   "metadata": {},
   "source": [
    "You can do many more cool things. If you want to change the order in which the aggregated values are displayed, you can just chain the command `.sort_values()` to your groupby statement. In general, you can use `.sort_values()` for sorting any column of a DataFrame."
   ]
  },
  {
   "cell_type": "code",
   "execution_count": null,
   "metadata": {},
   "outputs": [],
   "source": [
    "energy_flow.groupby('Control area')['Physical Flow Value'].mean().sort_values(ascending=False)"
   ]
  },
  {
   "cell_type": "code",
   "execution_count": null,
   "metadata": {},
   "outputs": [],
   "source": [
    "pf_high_voltage = pd.read_csv(\"./data/energy/physical_flow_high_voltage_2022_may_30.csv\", sep = \";\", index_col = 0)\n",
    "pf_high_voltage.head()"
   ]
  },
  {
   "cell_type": "markdown",
   "metadata": {},
   "source": [
    "<br>\n",
    "\n",
    "## Recap, Tips & Takeaways &#128161;\n",
    "\n",
    "<br>"
   ]
  },
  {
   "cell_type": "markdown",
   "metadata": {},
   "source": [
    "<div class=\"alert alert-block alert-success\">\n",
    "\n",
    "**Let's see what might be cool to keep in mind:**\n",
    "\n",
    "- There are two ways to combine DataFrames: [pandas.merge](https://pandas.pydata.org/docs/reference/api/pandas.merge.html#pandas-merge) and [pandas.concat](https://pandas.pydata.org/docs/reference/api/pandas.concat.html#pandas-concat)\n",
    "- You can get quick stats with [pandas.DataFrame.describe](https://pandas.pydata.org/docs/reference/api/pandas.DataFrame.describe.html#pandas-dataframe-describe)\n",
    "- `df_name[\"column_name\"].unique()` lists all the unique values within a column\n",
    "- Filters in Python are a boolean conditional selection: `df_name[df_name[\"column_name\"] == \"target_value\"]`\n",
    "- Multiple filters can be linked together with `|` and  `&` in a statement\n",
    "        \n",
    "</div>"
   ]
  }
 ],
 "metadata": {
  "kernelspec": {
   "display_name": "Python 3",
   "language": "python",
   "name": "python3"
  },
  "language_info": {
   "codemirror_mode": {
    "name": "ipython",
    "version": 3
   },
   "file_extension": ".py",
   "mimetype": "text/x-python",
   "name": "python",
   "nbconvert_exporter": "python",
   "pygments_lexer": "ipython3",
   "version": "3.11.4"
  }
 },
 "nbformat": 4,
 "nbformat_minor": 4
}
