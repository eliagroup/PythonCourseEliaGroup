{
 "cells": [
  {
   "cell_type": "markdown",
   "metadata": {},
   "source": [
    "<br>\n",
    "\n",
    "<img src=\"./image/Logo/logo_elia_group.png\" width = 200>\n",
    "\n",
    "<br>"
   ]
  },
  {
   "cell_type": "markdown",
   "metadata": {},
   "source": [
    "# Working with data types\n",
    "<br>\n",
    "Since you now know some of the built-in data types, let's work with them. \n",
    "<br>\n",
    "\n",
    "## Variables\n",
    "<br>\n",
    "\n",
    "You can save bits of data, of any data type, as **variables**. Variables are names that you define, that refer to that data in our computer's memory. Do you remember the dictionary we created from before? We named the dictionary `energy` and assigned all keys and values we defined to that variable, called `energy`. `energy` therefore is our variable.\n",
    "\n",
    "- Syntax: `variable_name = `"
   ]
  },
  {
   "cell_type": "markdown",
   "metadata": {},
   "source": [
    "Let's create a variable that is called `x` and initiate the variable with the value of 5."
   ]
  },
  {
   "cell_type": "code",
   "execution_count": 1,
   "metadata": {},
   "outputs": [],
   "source": [
    "x = 5"
   ]
  },
  {
   "cell_type": "markdown",
   "metadata": {},
   "source": [
    "&#128161; With the `print()` command, you can print the statement you put into the brackets. Remember this one, it comes in handy!"
   ]
  },
  {
   "cell_type": "code",
   "execution_count": null,
   "metadata": {},
   "outputs": [],
   "source": [
    "print(x)"
   ]
  },
  {
   "cell_type": "markdown",
   "metadata": {},
   "source": [
    "Let's create a variable that is called `favorite_colour` and initiate the variable with a string called 'green'. "
   ]
  },
  {
   "cell_type": "code",
   "execution_count": null,
   "metadata": {},
   "outputs": [],
   "source": [
    "favorite_colour = \"green\"\n",
    "print(favorite_colour)"
   ]
  },
  {
   "cell_type": "markdown",
   "metadata": {},
   "source": [
    "### Exercise\n",
    "- Make a variable called `my_name` that points to your name\n",
    "- Which data type are you using for it, can you print out the type?"
   ]
  },
  {
   "cell_type": "code",
   "execution_count": 4,
   "metadata": {},
   "outputs": [],
   "source": [
    "# delete this line and replace it with your solution"
   ]
  },
  {
   "attachments": {},
   "cell_type": "markdown",
   "metadata": {},
   "source": [
    "## Comparisons\n",
    "<br>\n",
    "One thing, you will probably use a lot, are comparisons. Maybe you want to know if, for instance, the photovoltaic power production on June 15th equals the power production on June 16th. Let's find out, how comparisons work in Python:"
   ]
  },
  {
   "cell_type": "markdown",
   "metadata": {},
   "source": [
    "If you want to see whether two values are equal, you use the `==` operator. You will get a boolean statement as an answer."
   ]
  },
  {
   "cell_type": "code",
   "execution_count": null,
   "metadata": {},
   "outputs": [],
   "source": [
    "5 == 6"
   ]
  },
  {
   "cell_type": "code",
   "execution_count": null,
   "metadata": {},
   "outputs": [],
   "source": [
    "5 == 3 + 2"
   ]
  },
  {
   "cell_type": "markdown",
   "metadata": {},
   "source": [
    "Let's create two variables and assign them a value:"
   ]
  },
  {
   "cell_type": "code",
   "execution_count": 7,
   "metadata": {},
   "outputs": [],
   "source": [
    "x = 1\n",
    "y = 2"
   ]
  },
  {
   "cell_type": "code",
   "execution_count": null,
   "metadata": {},
   "outputs": [],
   "source": [
    "x == y  # ... x is equal to y"
   ]
  },
  {
   "cell_type": "code",
   "execution_count": null,
   "metadata": {},
   "outputs": [],
   "source": [
    "x != y  # ... x is not equal to y"
   ]
  },
  {
   "cell_type": "code",
   "execution_count": null,
   "metadata": {},
   "outputs": [],
   "source": [
    "x > y   # ... x is greater than y"
   ]
  },
  {
   "cell_type": "code",
   "execution_count": null,
   "metadata": {},
   "outputs": [],
   "source": [
    "x < y   # ... x is less than y"
   ]
  },
  {
   "cell_type": "code",
   "execution_count": null,
   "metadata": {},
   "outputs": [],
   "source": [
    "x >= y  # ... x is greater than or equal to y"
   ]
  },
  {
   "cell_type": "code",
   "execution_count": null,
   "metadata": {},
   "outputs": [],
   "source": [
    "x <= y  # ... x is less than or equal to y"
   ]
  },
  {
   "cell_type": "markdown",
   "metadata": {},
   "source": [
    "&#128161; By the way. If you write a `#` in your cell, you write a comment. This does not get compiled and can come in handy if you want to write yourself or others a note, explain your code or structure your code."
   ]
  },
  {
   "cell_type": "markdown",
   "metadata": {},
   "source": [
    "## Conditionals\n",
    "<br>\n",
    "\n",
    "Booleans can be used in conditional commands. \n",
    "Conditional commands work just like the **\"IF..THEN..\"** command you know from Microsoft Excel.\n",
    "\n",
    "\n",
    "Try changing the value of x in the example below:"
   ]
  },
  {
   "cell_type": "code",
   "execution_count": null,
   "metadata": {},
   "outputs": [],
   "source": [
    "x = 5\n",
    "\n",
    "if x <= 10:\n",
    "    print('X is less than or equal to 10')\n",
    "else:\n",
    "    print ('X is greater than 10')"
   ]
  },
  {
   "cell_type": "markdown",
   "metadata": {},
   "source": [
    "You can add almost infinite layers to your conditional statement by adding `elif` to the conditional block:"
   ]
  },
  {
   "cell_type": "code",
   "execution_count": null,
   "metadata": {},
   "outputs": [],
   "source": [
    "solar_load = 514.58\n",
    "wind_load = 782.12 \n",
    "\n",
    "print(\"The monitored capacity of solar is: \", solar_load)\n",
    "print(\"The monitored capacity of wind is: \", wind_load)\n",
    "\n",
    "if solar_load > 700:\n",
    "    print(solar_load)\n",
    "    \n",
    "elif solar_load < wind_load :\n",
    "    print(solar_load, 'is less than', wind_load)\n",
    "    \n",
    "else:\n",
    "    print(wind_load)"
   ]
  },
  {
   "cell_type": "markdown",
   "metadata": {},
   "source": [
    "### Exercise\n",
    "- Create two variables, called a and b and assign them the values 12 and 3, respectively\n",
    "- Write code that adds these 2 numbers together, and if the sum is > 10, print \"Sum is greater than 10\", otherwise print \"Sum is less than 10\""
   ]
  },
  {
   "cell_type": "code",
   "execution_count": 18,
   "metadata": {},
   "outputs": [],
   "source": [
    "# delete this line and replace it with your solution"
   ]
  },
  {
   "attachments": {},
   "cell_type": "markdown",
   "metadata": {},
   "source": [
    "## Loops\n",
    "In Python (and programming in general), you'll oftentimes want to do the same calculation over multiple values. **This is what loops are for!** They allow us to iterate through lists, rows in a table of data or any iterables like e.g. strings.\n",
    "\n",
    "&#128161; An iterable is any Python object capable of returning its members one at a time, permitting it to be iterated over in a for-loop.\n",
    "\n",
    "### `for`\n",
    "\n",
    "We can iterate through any object that has multiple smaller objects within it, like a list. A list contains multiple smaller elements within it. <br>\n",
    "- Syntax: `for variable_name in object:`\n",
    "<br> \n",
    "\n",
    "Let's get right to it!"
   ]
  },
  {
   "cell_type": "code",
   "execution_count": null,
   "metadata": {},
   "outputs": [],
   "source": [
    "p = [1, 5, 8, 12, 6]\n",
    "for number in p:\n",
    "    print(number)"
   ]
  },
  {
   "attachments": {},
   "cell_type": "markdown",
   "metadata": {},
   "source": [
    "As you can see, the for loop goes through every item (here called number) in p (the name of your list) and prints each of them, like a loop. <br>\n",
    "Let's do another example. In the following case, your for loop goes through each number of your list again - but now adds 5 to each number. This new number is saved in a new variable, called `new_number`. Subequently, each \"old\" number and your new number is being printed. See for yourself: "
   ]
  },
  {
   "cell_type": "code",
   "execution_count": null,
   "metadata": {},
   "outputs": [],
   "source": [
    "p = [1, 5, 8, 12, 6]\n",
    "for number in p:\n",
    "    new_number = number + 5\n",
    "    print(number, new_number)"
   ]
  },
  {
   "cell_type": "markdown",
   "metadata": {},
   "source": [
    "You can not only iterate through lists. Strings are iterable too:"
   ]
  },
  {
   "cell_type": "code",
   "execution_count": null,
   "metadata": {},
   "outputs": [],
   "source": [
    "for character in 'Python':\n",
    "    print(character)"
   ]
  },
  {
   "cell_type": "markdown",
   "metadata": {},
   "source": [
    "&#128161; Note that you can name your variable/iteration however you'd like. You can call it index, number or item. Whatever you prefer. "
   ]
  },
  {
   "attachments": {},
   "cell_type": "markdown",
   "metadata": {},
   "source": [
    "## Range\n",
    "<br>\n",
    "\n",
    "In Python, there is a pretty useful function called `range()`. It created increasing 'counting-style' lists. With `range()`, the programmer enters the value at which they want the list to start and stop, and the 'step' of the list. By default, the latter would be 1. Setting the step to 2 counts off by skipping the intermediary number.\n",
    "\n",
    "- Syntax: `range(start,stop,step)`\n",
    "<br>\n",
    "\n",
    "Let's see how `range()` looks like: "
   ]
  },
  {
   "cell_type": "code",
   "execution_count": null,
   "metadata": {},
   "outputs": [],
   "source": [
    "test = list(range(1,10,2))\n",
    "print(test)"
   ]
  },
  {
   "cell_type": "markdown",
   "metadata": {},
   "source": [
    "&#10004; Let's put a for loop and range() together:"
   ]
  },
  {
   "cell_type": "code",
   "execution_count": null,
   "metadata": {},
   "outputs": [],
   "source": [
    "for item in range(0, 3, 1):\n",
    "    print(item)"
   ]
  },
  {
   "cell_type": "code",
   "execution_count": null,
   "metadata": {},
   "outputs": [],
   "source": [
    "for item in range(1, 6, 2):\n",
    "    print(item)"
   ]
  },
  {
   "cell_type": "markdown",
   "metadata": {},
   "source": [
    "### Exercise \n",
    "\n",
    "Great! Now it's your turn. <br>\n",
    "\n",
    "- Write a for loop that goes through a list of months, named `months`, and prints each of the months in your list"
   ]
  },
  {
   "cell_type": "code",
   "execution_count": 25,
   "metadata": {},
   "outputs": [],
   "source": [
    "# delete this line and replace it with your solution"
   ]
  },
  {
   "cell_type": "markdown",
   "metadata": {},
   "source": [
    "## String formatting\n",
    "\n",
    "There are many formatting tricks in Python to control how strings appear. \n",
    "\n",
    "The most easy way to do this are f'strings:"
   ]
  },
  {
   "cell_type": "code",
   "execution_count": null,
   "metadata": {},
   "outputs": [],
   "source": [
    "first_number = 3 \n",
    "second_number = 4\n",
    "third_number = 10\n",
    "\n",
    "f'{first_number}, {second_number}, {third_number}'"
   ]
  },
  {
   "cell_type": "markdown",
   "metadata": {},
   "source": [
    "We can control the formatting of decimal places. Check out the different formatting types [here](https://www.w3schools.com/python/ref_string_format.asp/)."
   ]
  },
  {
   "cell_type": "code",
   "execution_count": null,
   "metadata": {},
   "outputs": [],
   "source": [
    "'{:.2f} {:.1f} {:.0f}'.format(640, 640, 640)"
   ]
  },
  {
   "cell_type": "markdown",
   "metadata": {},
   "source": [
    "## String stripping\n",
    "\n",
    "A common operation is removing trailing whitespace:"
   ]
  },
  {
   "cell_type": "code",
   "execution_count": null,
   "metadata": {},
   "outputs": [],
   "source": [
    "'python is dynamically typed    '.strip(' ')"
   ]
  },
  {
   "cell_type": "markdown",
   "metadata": {},
   "source": [
    "Related is to remove characters from the string - this can be done by replacing with `''`"
   ]
  },
  {
   "cell_type": "code",
   "execution_count": null,
   "metadata": {},
   "outputs": [],
   "source": [
    "'python is dynamically typed    '.replace(' ', '')"
   ]
  },
  {
   "cell_type": "markdown",
   "metadata": {},
   "source": [
    "## `in`\n",
    "\n",
    "A way to check if an object exists in an iterable using `in`.  As strings are iterable, this syntax works with strings:"
   ]
  },
  {
   "cell_type": "code",
   "execution_count": null,
   "metadata": {},
   "outputs": [],
   "source": [
    "'P' in 'Python'"
   ]
  },
  {
   "cell_type": "code",
   "execution_count": null,
   "metadata": {},
   "outputs": [],
   "source": [
    "'p' in 'Python'"
   ]
  },
  {
   "cell_type": "markdown",
   "metadata": {},
   "source": [
    "<br>\n",
    "\n",
    "## Recap, Tips & Takeaways &#128161;\n",
    "\n",
    "<br>"
   ]
  },
  {
   "attachments": {},
   "cell_type": "markdown",
   "metadata": {},
   "source": [
    "<div class=\"alert alert-block alert-success\">\n",
    "\n",
    "**Let's recap what you have learned so far:**\n",
    "\n",
    "- there are different **data types** (integers, floats, booleans, strings) with which you are working in Python\n",
    "- you can convert them from one to another, e.g. using `float()` to convert something else to floats\n",
    "- a **list** in Python is created with `[]` brackets or using `list()`\n",
    "- the first item of a list has the index **0** and you can select it like this: `list_name[0]`\n",
    "- **dictionaries** are key-value pairs with the following syntax: `{key1: value1, key2: value2}`\n",
    "- **for loops** allow you to iterate through lists, rows in a table of data or any iterable like e.g. strings\n",
    "- with **elif** you can add almost infinite layers to your condition statement\n",
    "    \n",
    "    ... and last but not least: Google is your friend! Don't be afraid to google the syntax and get help from the community! &#128526;\n",
    "        \n",
    "</div>"
   ]
  },
  {
   "cell_type": "markdown",
   "metadata": {},
   "source": [
    "## Extra resources\n",
    "To know more about data types\n",
    "- [Data types Real Python Tutorial](https://realpython.com/python-data-types/)"
   ]
  }
 ],
 "metadata": {
  "kernelspec": {
   "display_name": "Python 3",
   "language": "python",
   "name": "python3"
  },
  "language_info": {
   "codemirror_mode": {
    "name": "ipython",
    "version": 3
   },
   "file_extension": ".py",
   "mimetype": "text/x-python",
   "name": "python",
   "nbconvert_exporter": "python",
   "pygments_lexer": "ipython3",
   "version": "3.11.4"
  }
 },
 "nbformat": 4,
 "nbformat_minor": 4
}
