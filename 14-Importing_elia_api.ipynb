{
 "cells": [
  {
   "cell_type": "markdown",
   "metadata": {},
   "source": [
    "<br>\n",
    "\n",
    "<img src=\"./image/Logo/logo_elia_group.png\" width = 200>\n",
    "\n",
    "<br>"
   ]
  },
  {
   "cell_type": "markdown",
   "metadata": {},
   "source": [
    "## How to work with the Elia open data API in Python\n",
    "<br>\n",
    "\n",
    "Did you ever ask yourself how your weather app predicts tomorrow's forecast? The answer is, it gets the data through a so-called API (Application Programming Interface). APIs are commonly used to access databases that are made public. It takes input, applies a set of rules and gives you an output. At Elia Group, we have a similar [API](https://opendata.elia.be/pages/home/) where you have open access to all our public grid data, including power generation, load, balancing, transmission and congestion. <br>\n",
    "\n",
    "This is how the Elia API looks like:"
   ]
  },
  {
   "cell_type": "markdown",
   "metadata": {},
   "source": [
    "<img src=\"./image/Elia_API.png\" width = 700>"
   ]
  },
  {
   "cell_type": "markdown",
   "metadata": {},
   "source": [
    "Let's import some cool data directly from Elia! To do so, you will need two packages: `requests` and `pandas`. For now, you don't need to worry about understanding each line of code. This Notebook is just for you to see that you can get data from an API directly and that you will be able to come back here and get the corresponding code. "
   ]
  },
  {
   "cell_type": "code",
   "execution_count": 1,
   "metadata": {},
   "outputs": [],
   "source": [
    "import requests\n",
    "import pandas as pd"
   ]
  },
  {
   "cell_type": "markdown",
   "metadata": {},
   "source": [
    "You are going to work with the following data [Load in the Elia grid](https://opendata.elia.be/explore/dataset/ods003/information/) with the dataset identifier **ods003**. Take a look at the parameters and the data itself. It gives you the Elia Grid Load with its Resolution Code and Datetime."
   ]
  },
  {
   "cell_type": "code",
   "execution_count": 2,
   "metadata": {},
   "outputs": [],
   "source": [
    "start_date =\"2022-07-01\"\n",
    "end_date = \"2022-07-06\"\n",
    "dataset= \"ods003\"\n",
    "url = f\"https://opendata.elia.be/api/v2/catalog/datasets/{dataset}/exports/\"\n",
    "json_string = f\"json?where=datetime in [date'{start_date}' .. date'{end_date}']\"\n",
    "response = requests.get(url = url + json_string)"
   ]
  },
  {
   "cell_type": "code",
   "execution_count": 3,
   "metadata": {},
   "outputs": [],
   "source": [
    "# calling the Elia Open Data API\n",
    "df = pd.DataFrame(response.json())"
   ]
  },
  {
   "cell_type": "code",
   "execution_count": null,
   "metadata": {},
   "outputs": [],
   "source": [
    "df"
   ]
  },
  {
   "cell_type": "code",
   "execution_count": 5,
   "metadata": {},
   "outputs": [],
   "source": [
    "df[\"datetime\"] = pd.to_datetime(df[\"datetime\"]).dt.tz_localize(None)"
   ]
  },
  {
   "cell_type": "code",
   "execution_count": null,
   "metadata": {},
   "outputs": [],
   "source": [
    "df"
   ]
  },
  {
   "cell_type": "markdown",
   "metadata": {},
   "source": [
    "Well done! &#128526;"
   ]
  },
  {
   "cell_type": "markdown",
   "metadata": {},
   "source": [
    "## Extra resources:\n",
    "To know more about APIs and requests read:\n",
    "- [API explained](https://www.crio.do/blog/what-is-an-api/)\n",
    "- [Requests library](https://realpython.com/python-requests/)"
   ]
  }
 ],
 "metadata": {
  "kernelspec": {
   "display_name": "Python 3",
   "language": "python",
   "name": "python3"
  },
  "language_info": {
   "codemirror_mode": {
    "name": "ipython",
    "version": 3
   },
   "file_extension": ".py",
   "mimetype": "text/x-python",
   "name": "python",
   "nbconvert_exporter": "python",
   "pygments_lexer": "ipython3",
   "version": "3.11.4"
  }
 },
 "nbformat": 4,
 "nbformat_minor": 4
}
