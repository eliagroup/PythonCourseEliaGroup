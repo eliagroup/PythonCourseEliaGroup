{
 "cells": [
  {
   "cell_type": "markdown",
   "metadata": {},
   "source": [
    "<br>\n",
    "\n",
    "<img src=\"./image/Logo/logo_elia_group.png\" width = 200>\n",
    "\n",
    "<br>"
   ]
  },
  {
   "cell_type": "markdown",
   "metadata": {},
   "source": [
    "# Dealing with datetime in Pandas\n",
    "<br>\n",
    "\n",
    "The following section is a pretty important one. Much of the data you work with in the Energy sector has some sort of a time component. But most of the time, if you upload your data, the **dates are basically just strings**. So Python **doesn't recognize them as dates or datetimes types** and you won't be able to e.g. select a certain date & time range like get the data from every friday or from a certain hour. So what you have to do is convert your date & time data from string into an actual datetime object. \n",
    "\n",
    "<br>\n",
    "Overall, daytime components can be really tricky! That doesn't mean, that they are impossible to work with. Just follow each example below and if you need a break - feel free to take one &#9749;."
   ]
  },
  {
   "cell_type": "markdown",
   "metadata": {},
   "source": [
    "## Datetime as Index\n",
    "<br>\n",
    "In order to get started with this section, let's import pandas as well as the data set you are going to work with: "
   ]
  },
  {
   "cell_type": "code",
   "execution_count": null,
   "metadata": {},
   "outputs": [],
   "source": [
    "import pandas as pd\n",
    "elia_load = pd.read_csv(\"./data/energy/elia_load_2019_01_15.csv\", sep = \";\")"
   ]
  },
  {
   "cell_type": "markdown",
   "metadata": {},
   "source": [
    "The data you are working with in the following might look familiar. It is the measured and upscaled load on the Elia grid from January 2019. Let's have a look: "
   ]
  },
  {
   "cell_type": "code",
   "execution_count": null,
   "metadata": {},
   "outputs": [],
   "source": [
    "elia_load.head(n=3)"
   ]
  },
  {
   "cell_type": "markdown",
   "metadata": {},
   "source": [
    "There are two ways of how you can work with datetime data: \n",
    "\n",
    "1. Your datetime **is an index**, in this case a DatetimeIndex\n",
    "2. Your datetime **is a column**, in this case a Datetime object \n",
    "\n",
    "Currently, as you can see in your DataFrame `elia_load`, your datetime is a column called `Datetime`. Let's check it's data type: "
   ]
  },
  {
   "cell_type": "code",
   "execution_count": null,
   "metadata": {},
   "outputs": [],
   "source": [
    "elia_load.dtypes"
   ]
  },
  {
   "cell_type": "markdown",
   "metadata": {},
   "source": [
    "As we can see, the data type of the column `Datetime` is an object only and **not a Datetime object** yet. In order to work with your datetime, you need to tell Python, that the data in `Datetime` actually is a date. To do so, you can create a so-called `DatetimeIndex`. This `DatetimeIndex` can be created right when you are reading your data set from the csv:\n",
    "\n",
    "1. Just use the `parse_dates` parameter and set it to `True`.\n",
    "2. In addition, you need to tell Python to treat the first column as the index. This is done by using another parameter called `index_col` which you set to `0`."
   ]
  },
  {
   "cell_type": "code",
   "execution_count": null,
   "metadata": {},
   "outputs": [],
   "source": [
    "load_dt_index = pd.read_csv(\"./data/energy/elia_load_2019_01_15.csv\", sep = \";\", parse_dates = True, index_col = 0)\n",
    "load_dt_index.head(n=3)"
   ]
  },
  {
   "cell_type": "code",
   "execution_count": null,
   "metadata": {},
   "outputs": [],
   "source": [
    "load_dt_index.index"
   ]
  },
  {
   "cell_type": "markdown",
   "metadata": {},
   "source": [
    "Nice! Now your first column became a `DatetimeIndex`! &#128512; \n",
    "\n",
    "<br>\n",
    "\n",
    "To simplify things, you now remove the time zone, because time zones are sometimes tricky in Python and as we are only working in one time zone, you don't need to worry about them right now. To drop the time zone you use `tz_localize(None)`."
   ]
  },
  {
   "cell_type": "code",
   "execution_count": null,
   "metadata": {},
   "outputs": [],
   "source": [
    "load_dt_index = load_dt_index.tz_localize(None)\n",
    "load_dt_index.head(n=10)"
   ]
  },
  {
   "cell_type": "markdown",
   "metadata": {},
   "source": [
    "If you are interested in a specific time range, you can select your data just bei using `.loc[]`. Remember, `.loc[]` is **label based**."
   ]
  },
  {
   "cell_type": "code",
   "execution_count": null,
   "metadata": {},
   "outputs": [],
   "source": [
    "load_night = load_dt_index.sort_index().loc[\"2019-01-15 22:00:00\" : \"2019-01-15 23:45:00\"]\n",
    "load_night"
   ]
  },
  {
   "cell_type": "markdown",
   "metadata": {},
   "source": [
    "🗓️ You can now do many many other things with this DatetimeIndex. For instance...\n",
    "\n",
    "- You can get the data of all Fridays within your data set"
   ]
  },
  {
   "cell_type": "code",
   "execution_count": null,
   "metadata": {},
   "outputs": [],
   "source": [
    "friday = load_dt_index[load_dt_index.index.weekday == 5]\n",
    "friday.shape"
   ]
  },
  {
   "cell_type": "markdown",
   "metadata": {},
   "source": [
    "- You can get the data from a specific hour"
   ]
  },
  {
   "cell_type": "code",
   "execution_count": null,
   "metadata": {},
   "outputs": [],
   "source": [
    "night_hour = load_dt_index[load_dt_index.index.hour == 23]\n",
    "night_hour.shape"
   ]
  },
  {
   "cell_type": "markdown",
   "metadata": {},
   "source": [
    "- You can select your data by using:\n",
    "    - df_name.index.year\n",
    "    - df_name.index.month\n",
    "    - df_name.index.week\n",
    "    - df_name.index.weekday\n",
    "    - df_name.index.day"
   ]
  },
  {
   "cell_type": "markdown",
   "metadata": {},
   "source": [
    "- You can also do a resampling with DatetimeIndex, e.g. get the average load over a day:"
   ]
  },
  {
   "cell_type": "code",
   "execution_count": null,
   "metadata": {},
   "outputs": [],
   "source": [
    "daily_load = load_dt_index.resample('D')['Elia Grid Load'].mean().round()\n",
    "daily_load.rename(\"Elia Grid Mean Load\")"
   ]
  },
  {
   "cell_type": "markdown",
   "metadata": {},
   "source": [
    "But be careful when moving to **different levels of granularity** or when aggregating your data. Ask yourself: What data am I showing now? Did the data change fundamentally? How can I indicate this to future users of the data and future readers of my code? \n",
    "\n",
    "For instance, when the Mean Load is measured in MW and you use `.sum()` as an aggregator for a certain time period, the unit changes from MW to MWh. This is why you always have to make sure that you rename your data to reflect this."
   ]
  },
  {
   "cell_type": "markdown",
   "metadata": {},
   "source": [
    "### Exercise\n",
    "\n",
    "Now it's your turn. "
   ]
  },
  {
   "cell_type": "markdown",
   "metadata": {},
   "source": [
    "1. Update the following cell to upload the data with \n",
    "    - the column `Datetime` being a **DatetimeIndex** \n",
    "    - this DatetimeIndex being the only Index"
   ]
  },
  {
   "cell_type": "code",
   "execution_count": null,
   "metadata": {},
   "outputs": [],
   "source": [
    "physical_flow = pd.read_csv(\"./data/energy/physical_flow_2021_1_01.csv\", sep = \";\")\n",
    "physical_flow.head(n=3)"
   ]
  },
  {
   "cell_type": "markdown",
   "metadata": {},
   "source": [
    "2. Resample your data to get the **mean by hour** and also, update the name to `Physical_Flow_mean`"
   ]
  },
  {
   "cell_type": "code",
   "execution_count": null,
   "metadata": {},
   "outputs": [],
   "source": [
    "# delete this line and replace it with your solution"
   ]
  },
  {
   "cell_type": "markdown",
   "metadata": {},
   "source": [
    "3. Remove the time zone information from `physical_flow` and store the data without it in a new variable called `none_tz`"
   ]
  },
  {
   "cell_type": "code",
   "execution_count": null,
   "metadata": {},
   "outputs": [],
   "source": [
    "# delete this line and replace it with your solution"
   ]
  },
  {
   "cell_type": "markdown",
   "metadata": {},
   "source": [
    "4. Select all data from `none_tz` that is from the **2021-12-01 and between 5am and 5:45am**, store the data in a variable called `early_morning`"
   ]
  },
  {
   "cell_type": "code",
   "execution_count": null,
   "metadata": {},
   "outputs": [],
   "source": [
    "# delete this line and replace it with your solution"
   ]
  },
  {
   "cell_type": "markdown",
   "metadata": {},
   "source": [
    "&#128077; Great, well done!"
   ]
  },
  {
   "cell_type": "markdown",
   "metadata": {},
   "source": [
    "## Datetime as column - pd.to_datetime\n",
    "<br>\n",
    "Besides DatetimeIndex, there is another way to work with your Datetime, which keeps your Datetime in a column, but still makes Python recognizing that your Datetime isn't just a String, but a Datetime object. To do so, you use:\n",
    "\n",
    "- [pandas.to_datetime](https://pandas.pydata.org/docs/reference/api/pandas.to_datetime.html#pandas-to-datetime) and define it's format (see `#help(pd.to_datetime)`)\n",
    "\n",
    "But let's do an example:\n",
    "1. Create a string that looks like a date\n",
    "2. Convert that string into a datetime with `pandas.to_datetime`\n",
    "3. Print out the (now) datetime object \n",
    "4. Check its new data type"
   ]
  },
  {
   "cell_type": "code",
   "execution_count": null,
   "metadata": {},
   "outputs": [],
   "source": [
    "date = \"2022-05-15\"\n",
    "type(date)"
   ]
  },
  {
   "cell_type": "code",
   "execution_count": null,
   "metadata": {},
   "outputs": [],
   "source": [
    "datetime = pd.to_datetime(date)\n",
    "print(datetime)\n",
    "type(datetime)"
   ]
  },
  {
   "cell_type": "markdown",
   "metadata": {},
   "source": [
    "Same goes for Series. In addition, Pandas recognizes different formats. Take a look at the output as well as data type: "
   ]
  },
  {
   "cell_type": "code",
   "execution_count": null,
   "metadata": {},
   "outputs": [],
   "source": [
    "s_dates = pd.Series([\"2022-05-15\",\n",
    "                     \"2022 May 14th\",\n",
    "                     \"13.05.22\",\n",
    "                     \"2022-05-12\"])\n",
    "\n",
    "s_dates"
   ]
  },
  {
   "cell_type": "code",
   "execution_count": null,
   "metadata": {},
   "outputs": [],
   "source": [
    "s_datetime = pd.to_datetime(s_dates, format='mixed', dayfirst=True)\n",
    "s_datetime"
   ]
  },
  {
   "cell_type": "markdown",
   "metadata": {},
   "source": [
    "This can be super inportant. Because sometimes, you might receive data from different sources with dates being in different formats. &#128526;"
   ]
  },
  {
   "cell_type": "markdown",
   "metadata": {},
   "source": [
    "### Make your Datetime readable \n",
    "<br>\n",
    "Imagine you want to return your datetimes in a string, so that it is readable for a user. This can be done with the to `.strftime()` method. This way, you can format our datetime object in a different string and return it."
   ]
  },
  {
   "cell_type": "code",
   "execution_count": null,
   "metadata": {},
   "outputs": [],
   "source": [
    "print(datetime)\n",
    "print(datetime.strftime(\"The load was measured on %A, %b %dth\"))"
   ]
  },
  {
   "cell_type": "markdown",
   "metadata": {},
   "source": [
    "With the parameters`%A`, `%b` and so on, you can tell Pandas how to read and therefore print your dates. `%A` for instance tells Pandas to return the weekday as locale’s full name. `%b` returns the month as abbreviated name. But don't worry, you don't need to know these by heart. Just check the [documentation of strftime and strptime](https://docs.python.org/3/library/datetime.html#strftime-and-strptime-behavior)."
   ]
  },
  {
   "cell_type": "markdown",
   "metadata": {},
   "source": [
    "## Select datetime with pd.to_datetime\n",
    "<br>"
   ]
  },
  {
   "cell_type": "markdown",
   "metadata": {},
   "source": [
    "Now that you are all prepared, let's get into our data set:"
   ]
  },
  {
   "cell_type": "code",
   "execution_count": null,
   "metadata": {},
   "outputs": [],
   "source": [
    "elia_load.head()"
   ]
  },
  {
   "cell_type": "code",
   "execution_count": null,
   "metadata": {},
   "outputs": [],
   "source": [
    "elia_load.dtypes"
   ]
  },
  {
   "cell_type": "markdown",
   "metadata": {},
   "source": [
    "With `pd.to_datetime` you convert your string into a Datetime object. With the parameter `format = ` you tell Python the format of your Datetime/how to parse your date. Again, check the [documentation](https://docs.python.org/3/library/datetime.html#strftime-and-strptime-behavior) to get the parameters you need."
   ]
  },
  {
   "cell_type": "code",
   "execution_count": null,
   "metadata": {},
   "outputs": [],
   "source": [
    "elia_load[\"Datetime\"] = pd.to_datetime(elia_load[\"Datetime\"], format = \"%Y-%m-%dT%H:%M:%S%z\")\n",
    "elia_load.head()"
   ]
  },
  {
   "cell_type": "markdown",
   "metadata": {},
   "source": [
    "Your data set may almost look the same, but if you check the data types again you will recognize, that your column `Datetime`..."
   ]
  },
  {
   "cell_type": "code",
   "execution_count": null,
   "metadata": {},
   "outputs": [],
   "source": [
    "elia_load.dtypes"
   ]
  },
  {
   "cell_type": "markdown",
   "metadata": {},
   "source": [
    "So since Python now knows that your first column represents Datetimes, you can do many cool things with them. <br>\n",
    "\n",
    "For instance, with `day_name()` Pandas tells you the weekday of that date. Let's see which day of the week is that first row:"
   ]
  },
  {
   "cell_type": "code",
   "execution_count": null,
   "metadata": {},
   "outputs": [],
   "source": [
    "elia_load.loc[0, \"Datetime\"].day_name()"
   ]
  },
  {
   "cell_type": "markdown",
   "metadata": {},
   "source": [
    "And of course, you can also select data. To do so, you use `.loc` as well as `.between`. Pay attention to the `,` separating those start and end datetimes: "
   ]
  },
  {
   "cell_type": "code",
   "execution_count": null,
   "metadata": {},
   "outputs": [],
   "source": [
    "night = elia_load.loc[elia_load[\"Datetime\"].between(\"2019-01-15 22:45:00+01:00\",\"2019-01-15 23:45:00+01:00\")]\n",
    "night"
   ]
  },
  {
   "cell_type": "markdown",
   "metadata": {},
   "source": [
    "### Exercise \n",
    "\n",
    "Let's play around a bit using the physical flow data again."
   ]
  },
  {
   "cell_type": "code",
   "execution_count": null,
   "metadata": {},
   "outputs": [],
   "source": [
    "physical_flow.head()"
   ]
  },
  {
   "cell_type": "markdown",
   "metadata": {},
   "source": [
    "1. Convert your `Datetime` data into real Datetime objects by using `pd.to_datetime`"
   ]
  },
  {
   "cell_type": "code",
   "execution_count": null,
   "metadata": {},
   "outputs": [],
   "source": [
    "# delete this line and replace it with your solution"
   ]
  },
  {
   "cell_type": "markdown",
   "metadata": {},
   "source": [
    "2. Print out the name of the day from 4th row"
   ]
  },
  {
   "cell_type": "code",
   "execution_count": null,
   "metadata": {},
   "outputs": [],
   "source": [
    "# delete this line and replace it with your solution"
   ]
  },
  {
   "cell_type": "markdown",
   "metadata": {},
   "source": [
    "3. Let's now say, that there was a huge imbalance on the net on the **23rd of July in 2002**:\n",
    "    - Turn the string `imbalance_date` into a datetime using `pd.to_datetime`\n",
    "    - print out a **string** saying \"Exact time of imbalance: Tuesday, Jul 07th 23:07:44:000000\" \n",
    "\n",
    "    *Hint: use `.strftime()`*"
   ]
  },
  {
   "cell_type": "code",
   "execution_count": null,
   "metadata": {},
   "outputs": [],
   "source": [
    "imbalance_date = \"23/07/2002 23:07:44\"\n",
    "# delete this line and replace it with your solution"
   ]
  },
  {
   "cell_type": "markdown",
   "metadata": {},
   "source": [
    "<br>\n",
    "\n",
    "## Recap, Tips & Takeaways &#128161;\n",
    "\n",
    "<br>"
   ]
  },
  {
   "cell_type": "markdown",
   "metadata": {},
   "source": [
    "<div class=\"alert alert-block alert-success\">\n",
    "\n",
    "**Let's recap what you have learned in this section:**\n",
    "\n",
    "- You always need to convert your Datetime data into Datetime objects in order to work with it \n",
    "- There are mainly two ways to do so: \n",
    "    1. DatetimeIndex: with `parse_dates = True` and `index_col = 0` when uploading your data \n",
    "       * here, you can use `.loc` to select certain Datetimes\n",
    "    2. `pd.to_datetime`\n",
    "       * here, you additionally use `.between`\n",
    "       * with the parameter `format = ` you can parse your Datetime data \n",
    "       * with `.strftime()` you can print out Datetime as String and adjust its format\n",
    "\n",
    "        \n",
    "</div>"
   ]
  }
 ],
 "metadata": {
  "kernelspec": {
   "display_name": "Python 3",
   "language": "python",
   "name": "python3"
  },
  "language_info": {
   "codemirror_mode": {
    "name": "ipython",
    "version": 3
   },
   "file_extension": ".py",
   "mimetype": "text/x-python",
   "name": "python",
   "nbconvert_exporter": "python",
   "pygments_lexer": "ipython3",
   "version": "3.11.4"
  }
 },
 "nbformat": 4,
 "nbformat_minor": 4
}
