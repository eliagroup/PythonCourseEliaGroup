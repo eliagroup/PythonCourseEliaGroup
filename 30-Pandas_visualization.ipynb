{
 "cells": [
  {
   "cell_type": "markdown",
   "metadata": {},
   "source": [
    "<br>\n",
    "\n",
    "<img src=\"./image/Logo/logo_elia_group.png\" width = 200>\n",
    "\n",
    "<br>"
   ]
  },
  {
   "cell_type": "markdown",
   "metadata": {},
   "source": [
    "# Data Visualization\n",
    "<br>\n",
    "\n",
    "&#128077; Congratulations, you have learned the basics of Python and even beyond that by exploring the infamous packages Pandas. Now you can sit back and relax. 😎 \n",
    "\n",
    "This last section is the fun part and should give you a short overview of how you can quickly visualize your data. Because this is where you get all the \"WOW\" ah \"Ahhhs\". ✨🤯 \n",
    "There are three visualization libraries, which you can use to visualize your data: **matplotlib**, **seaborn** and **plotly**.\n",
    "\n",
    "\n",
    "[Matplotlib](https://matplotlib.org/)\n",
    "- Built to emulate [MATLAB](https://www.mathworks.com/products/matlab.html)'s graphic commands but is independent of MATLAB\n",
    "- One of the most used and known library for visualization in Python\n",
    "\n",
    "[Seaborn](https://seaborn.pydata.org/)\n",
    "- Built on Matplotlib actually\n",
    "- Adds additional functionality\n",
    "- Works well with Pandas data structures like DataFrames and Series\n",
    "\n",
    "[Plotly](https://plotly.com/)\n",
    "- Creates interactive graphs by default\n",
    "- Is just really cool stuff &#128526;\n"
   ]
  },
  {
   "cell_type": "markdown",
   "metadata": {},
   "source": [
    "## Make your data ready for Visualization\n",
    "<br>\n",
    "\n",
    "But before you do fancy bar charts, boxplots or interactive graphs, you have to prepare your data in order to subsequently visualize it. But no worries, this is what you have been trained for all along. <br>\n",
    "1. First, upload your data: "
   ]
  },
  {
   "cell_type": "code",
   "execution_count": null,
   "metadata": {},
   "outputs": [],
   "source": [
    "import pandas as pd\n",
    "\n",
    "energy_borders = pd.read_csv(\"./data/energy/physical_flow_2021_1_01.csv\", sep = \";\")"
   ]
  },
  {
   "cell_type": "markdown",
   "metadata": {},
   "source": [
    "2. Understand your data. In this case: A positive value means export from Belgium, while negative value means import into Belgium."
   ]
  },
  {
   "cell_type": "code",
   "execution_count": null,
   "metadata": {},
   "outputs": [],
   "source": [
    "energy_borders.head(3)"
   ]
  },
  {
   "cell_type": "code",
   "execution_count": null,
   "metadata": {},
   "outputs": [],
   "source": [
    "energy_borders.dtypes"
   ]
  },
  {
   "cell_type": "markdown",
   "metadata": {},
   "source": [
    "3. Check for missing values and replace or drop them if there are any "
   ]
  },
  {
   "cell_type": "code",
   "execution_count": null,
   "metadata": {},
   "outputs": [],
   "source": [
    "energy_borders.isna().any().any()"
   ]
  },
  {
   "cell_type": "markdown",
   "metadata": {},
   "source": [
    "4. Convert your Datetime data into a Datetime object"
   ]
  },
  {
   "cell_type": "code",
   "execution_count": null,
   "metadata": {},
   "outputs": [],
   "source": [
    "energy_borders[\"Datetime\"] = pd.to_datetime(energy_borders[\"Datetime\"])"
   ]
  },
  {
   "cell_type": "markdown",
   "metadata": {},
   "source": [
    "&#128077; Great! Now your data is ready to be visualized."
   ]
  },
  {
   "cell_type": "markdown",
   "metadata": {},
   "source": [
    "But before we get started with the different libraries, there is an easy and super short way to visualize your data ad-hoc `pandas.DataFrame.plot()`! This is a Pandas in-built function. As default, matplotlib is used as plotting backend."
   ]
  },
  {
   "cell_type": "code",
   "execution_count": null,
   "metadata": {},
   "outputs": [],
   "source": [
    "energy_borders.plot(x = \"Datetime\", y = \"Physical Flow Value\")"
   ]
  },
  {
   "cell_type": "markdown",
   "metadata": {},
   "source": [
    "Sure, this is not the most fancy plot. However, to get a first idea of how your data looks, this can come in handy!"
   ]
  },
  {
   "cell_type": "markdown",
   "metadata": {},
   "source": [
    "## Matplotlib\n",
    "<br>\n",
    "\n",
    "Matplotlib is often used in research or scientific backgrounds. You can do all sorts of plots with it, from bar charts and histograms to scatterplots and boxplots.\n",
    "There are many different ways of how to use Matplotlib, which is provided through the submodule called pyplot and usually imported as `import matplotlib.pyplot as plt` for further usage.\n",
    "\n",
    "- `plt.subplots` is the basic command to start with. It creates two objects:\n",
    "    - A figure (fig) which is a container that holds everything you see on the page\n",
    "    - An axes object (ax) which is a canvas on which you will draw on  \n",
    "- Feel free to check ou the [user guide](https://matplotlib.org/stable/tutorials/introductory/usage.html#sphx-glr-tutorials-introductory-usage-py)"
   ]
  },
  {
   "cell_type": "markdown",
   "metadata": {},
   "source": [
    "<img src = \"./image/matplotlib_example.png\" width = 400>\n",
    "\n",
    "[Image Source](https://matplotlib.org/stable/gallery/lines_bars_and_markers/spectrum_demo.html#sphx-glr-gallery-lines-bars-and-markers-spectrum-demo-py)"
   ]
  },
  {
   "cell_type": "markdown",
   "metadata": {},
   "source": [
    "## Example Matplotlib\n",
    "\n",
    "Let's do an example plot with Matplotlib. For that, check out all countries in your DataFrame `energy_borders`. All of them represent actual neighbouring bidding zones to Belgium:"
   ]
  },
  {
   "cell_type": "code",
   "execution_count": null,
   "metadata": {},
   "outputs": [],
   "source": [
    "energy_borders[\"Control area\"].unique()"
   ]
  },
  {
   "cell_type": "code",
   "execution_count": null,
   "metadata": {},
   "outputs": [],
   "source": [
    "germany = energy_borders.loc[energy_borders[\"Control area\"] == \"Germany\"]\n",
    "france = energy_borders.loc[energy_borders[\"Control area\"] == \"France\"]"
   ]
  },
  {
   "cell_type": "code",
   "execution_count": null,
   "metadata": {},
   "outputs": [],
   "source": [
    "germany.head(3)"
   ]
  },
  {
   "cell_type": "code",
   "execution_count": null,
   "metadata": {},
   "outputs": [],
   "source": [
    "france.head(3)"
   ]
  },
  {
   "cell_type": "markdown",
   "metadata": {},
   "source": [
    "Let's visualize!"
   ]
  },
  {
   "cell_type": "code",
   "execution_count": null,
   "metadata": {},
   "outputs": [],
   "source": [
    "import matplotlib.pyplot as plt\n",
    "\n",
    "# analogy: fig is like a paper and ax is what you would draw on it \n",
    "fig, ax = plt.subplots() # creating the fig and ax objects\n",
    "\n",
    "# adding data to our plot\n",
    "ax.plot(germany[\"Datetime\"],germany[\"Physical Flow Value\"], label = \"Germany\") # adding the first line plot\n",
    "ax.plot(france[\"Datetime\"], france[\"Physical Flow Value\"], label = \"France\") # adding the second line plot\n",
    "\n",
    "ax.set_ylabel(\"Physical Flow in MW\") # setting the label of the y axis\n",
    "ax.legend() # adding a legend\n",
    "plt.xticks(rotation = 45) # changing the rotation of x-label\n",
    "\n",
    "# showing our plot\n",
    "plt.show()"
   ]
  },
  {
   "cell_type": "markdown",
   "metadata": {},
   "source": [
    "### Exercise\n",
    "\n",
    "Look at the plot above and try to add a line of code that implements a horizontal line at y = 0, which, in this case, marks the threshold of import or export. <br>\n",
    "Remember, you can find basically everything in the documentation, stackoverflow or just by googling it 😎!"
   ]
  },
  {
   "cell_type": "code",
   "execution_count": null,
   "metadata": {},
   "outputs": [],
   "source": [
    "# delete this line and replace it with your solution"
   ]
  },
  {
   "cell_type": "markdown",
   "metadata": {},
   "source": [
    "## Seaborn \n",
    "\n",
    "Seaborn is a data visualization library based on matplotlib. It is great for statistical data visualization. In order to work with seaborn you have to import both - matplotlib as well as seaborn. Check out the [documentation](https://seaborn.pydata.org/introduction.html) to get more info. \n",
    "<br>\n",
    "\n",
    "<img src = \"./image/seaborn_example_plot.png\" width = 500>\n",
    "\n",
    "So let's get right to it!"
   ]
  },
  {
   "cell_type": "code",
   "execution_count": null,
   "metadata": {},
   "outputs": [],
   "source": [
    "import matplotlib.pyplot as plt\n",
    "import seaborn as sns\n",
    "\n",
    "energy_borders_2 = pd.read_csv(\"./data/energy/physical_flow_2021_1_01.csv\", sep = \";\") # do NOT import your Datetime as DatetimeIndex\n",
    "energy_borders_2[\"Datetime\"] = pd.to_datetime(energy_borders_2[\"Datetime\"] ) # instead convert Datetime as Datetime Object with pd.to_datetime"
   ]
  },
  {
   "cell_type": "markdown",
   "metadata": {},
   "source": [
    "Select the bidding zone that you would like to visualize: "
   ]
  },
  {
   "cell_type": "code",
   "execution_count": null,
   "metadata": {},
   "outputs": [],
   "source": [
    "energy_borders_2[\"Control area\"].unique()"
   ]
  },
  {
   "cell_type": "code",
   "execution_count": null,
   "metadata": {},
   "outputs": [],
   "source": [
    "luxembourg = energy_borders_2[energy_borders_2[\"Control area\"] == \"Luxembourg\"]\n",
    "netherlands = energy_borders_2[energy_borders_2[\"Control area\"] == \"Netherlands\"]"
   ]
  },
  {
   "cell_type": "code",
   "execution_count": null,
   "metadata": {},
   "outputs": [],
   "source": [
    "luxembourg.head(3)"
   ]
  },
  {
   "cell_type": "code",
   "execution_count": null,
   "metadata": {},
   "outputs": [],
   "source": [
    "netherlands.head(3)"
   ]
  },
  {
   "cell_type": "markdown",
   "metadata": {},
   "source": [
    "Data visualization: "
   ]
  },
  {
   "cell_type": "code",
   "execution_count": null,
   "metadata": {},
   "outputs": [],
   "source": [
    "sns.lineplot(x = \"Datetime\", y = \"Physical Flow Value\", data = luxembourg, label = \"Luxembourg\") # plotting Luxembourg\n",
    "sns.lineplot(x = \"Datetime\", y = \"Physical Flow Value\", data = netherlands, label = \"Netherlands\") # plotting Netherlands\n",
    "plt.xticks(rotation=45)\n",
    "plt.legend()\n",
    "\n",
    "plt.gcf().axes[0].yaxis.get_major_formatter().set_scientific(False) # transforming y labels to whole numbers\n",
    "plt.show()"
   ]
  },
  {
   "cell_type": "markdown",
   "metadata": {},
   "source": [
    "Cool right? 😎 Please note that the x and y labels are **automatically set by the column name**. \n",
    "<br>\n",
    "\n",
    "You can also create a data set with multiple selected countries and visualize them:"
   ]
  },
  {
   "cell_type": "code",
   "execution_count": null,
   "metadata": {},
   "outputs": [],
   "source": [
    "\n",
    "filter_countries = (energy_borders_2[\"Control area\"] == \"Germany\") | (energy_borders_2[\"Control area\"] == \"Netherlands\") | (energy_borders_2[\"Control area\"] == \"Luxembourg\") \n",
    "\n",
    "sns.lineplot(x = \"Datetime\", y = \"Physical Flow Value\", hue = \"Control area\", data = energy_borders_2[filter_countries])\n",
    "plt.xticks(rotation=45)\n",
    "plt.show()"
   ]
  },
  {
   "cell_type": "markdown",
   "metadata": {},
   "source": [
    "## Plotly\n",
    "<br>\n",
    "\n",
    "Plotly is by far the most fun library for data visualization. The main advantage of this library is that its plot are **interactive plots by default**. With mouse hover functionality, interactive buttons e.g. zoom in, and many more. It is a JavaScript graphing library, but has a Python wrapper, so there is no need to know JavaScript.\n",
    "\n",
    "There are three ways on how Plotly figures can be created:\n",
    "\n",
    "1. **plotly.express** for simple, quick plots `(px)`\n",
    "    - Specify a DataFrame and its columns as arguments\n",
    "    - Quick, nice but less customization\n",
    "2. **plotly.graph_objects** for more customization `(go)`\n",
    "    - go.X methods like `go.Bar()` or `go.Scatter()`\n",
    "    - Many more customization options, but also more code needed\n",
    "    - You have to call the whole DataFrame with its columns\n",
    "3. **plotly.figure_factory** for specific, advanced figures\n",
    "    - out of scope hence not handled but look [here](https://plotly.com/python/figure-factories/) for more information\n",
    "\n",
    "If you want to learn more about Plotly, check out the **Documentations** links below:\n",
    "\n",
    "1. [Basics](https://plotly.com/python/)\n",
    "2. [Plotly Express](https://plotly.com/python-api-reference/plotly.express.html)\n",
    "3. [Graph_opbjects page](https://plotly.com/python-api-reference/plotly.graph_objects.html)\n",
    "4. [go.Figure](https://plotly.com/python-api-reference/generated/plotly.graph_objects.Figure.html)"
   ]
  },
  {
   "cell_type": "markdown",
   "metadata": {},
   "source": [
    "### Plotly Express"
   ]
  },
  {
   "cell_type": "code",
   "execution_count": null,
   "metadata": {},
   "outputs": [],
   "source": [
    "import pandas as pd\n",
    "import plotly.express as px\n",
    "\n",
    "# creating a dummy DataFrame\n",
    "flow_by_area = pd.DataFrame({\"Control Area\":[\"Luxembourg\", \"Netherlands\", \"Germany\", \"France\"], \"Mean Physical Flow in MW\": [-234.05,378.23,120.42,-232.09]})\n",
    "\n",
    "#  create the plot\n",
    "fig  = px.bar(data_frame = flow_by_area, x = \"Control Area\", y = \"Mean Physical Flow in MW\", title = \"Physical Flow by Area\")\n",
    "fig.show()\n",
    "print(fig)"
   ]
  },
  {
   "cell_type": "markdown",
   "metadata": {},
   "source": [
    "But what if you would like to change the colour? No problem!"
   ]
  },
  {
   "cell_type": "code",
   "execution_count": null,
   "metadata": {},
   "outputs": [],
   "source": [
    "#  create the graph - adding color by specificing the color argument with the column score and creating a custom scale (not necessary)\n",
    "fig  = px.bar(data_frame = flow_by_area, x = \"Control Area\", y = \"Mean Physical Flow in MW\", title = \"Physical Flow by Area\", color=\"Mean Physical Flow in MW\",  color_continuous_scale=[\"rgb(0,255,0)\",\"rgb(0,178,238)\"])\n",
    "fig.show()"
   ]
  },
  {
   "cell_type": "markdown",
   "metadata": {},
   "source": [
    "### Scatterplot\n",
    "\n",
    "Scatterplot are pretty useful to observe relationships between variables. It uses dots to represent a (x,y) value pairs. In plotly, you can easily add hover or mouseover effects to display further info on each value pair. But first, let's have a look at the data you are using again: "
   ]
  },
  {
   "cell_type": "code",
   "execution_count": null,
   "metadata": {},
   "outputs": [],
   "source": [
    "energy_borders_2.head()"
   ]
  },
  {
   "cell_type": "code",
   "execution_count": null,
   "metadata": {},
   "outputs": [],
   "source": [
    "# Create the scatterplot\n",
    "fig = px.scatter(data_frame = energy_borders_2,\n",
    "  x = \"Datetime\", \n",
    "  y = \"Physical Flow Value\", \n",
    "  color = 'Control area',\n",
    "  # Add columns to the hover information\n",
    "  hover_data = [\"Resolution code\", \"Control area\"],\n",
    "  # Add bold variable in hover information\n",
    "  hover_name = 'Control area'\n",
    ")\n",
    "\n",
    "# add an annotation (floating annotation with \"xref\":\"paper\", \"yref\":\"paper\", \"x\":0.5, \"y\":0.8)\n",
    "my_annotation = {\"x\": \"2021-12-01 18:45:00+01:00\", \"y\":1707.232, \"showarrow\": True, \"arrowhead\":3, \"text\": \"Look at this outlier\", \"font\": {\"size\": 10, \"color\": \"black\"}}\n",
    "fig.update_layout({\"annotations\" : [my_annotation]})\n",
    "# Show the plot\n",
    "fig.show()"
   ]
  },
  {
   "cell_type": "markdown",
   "metadata": {},
   "source": [
    "As you can see, you can do lots of cool stuff with **Plotly**. Even annotations such as *\"Look at this data point\"* are possible! Check out the hover effects! 🚀"
   ]
  },
  {
   "cell_type": "markdown",
   "metadata": {},
   "source": [
    "<br>\n",
    "\n",
    "## Recap, Tips & Takeaways &#128161;\n",
    "\n",
    "<br>"
   ]
  },
  {
   "cell_type": "markdown",
   "metadata": {},
   "source": [
    "<div class=\"alert alert-block alert-success\">\n",
    "\n",
    "**Let's recap what you have learned in this chapter:**\n",
    "\n",
    "- `pandas.DataFrame.plot(x = \"col_name\", y = \"col_name\")` makes it possible to quickly plot your data and comes out of the box with Pandas 😎\n",
    "- To work with **Matplotlib** you have to **import matplotlib.pyplot as plt** and create the fig and ax objects `fig, ax = plt.subplots()`\n",
    "- To work with **Seaborn**, you need to **import matplotlib.pyplot as plt** AND **import seaborn as sns**\n",
    "- **Plotly** is great for interactive plots\n",
    "    - You need to **import pandas as pd** AND **import plotly.express as px**\n",
    "    - With `plotly.express` you can plot interactive graphs very quickly\n",
    "- And last but not least, you can visualize basically anything! You can easily adjust your plots, customize them, create thresholds, additional axes and so on. Just check the documentation and play around a bit. 💪\n",
    "</div>"
   ]
  }
 ],
 "metadata": {
  "kernelspec": {
   "display_name": "Python 3",
   "language": "python",
   "name": "python3"
  },
  "language_info": {
   "codemirror_mode": {
    "name": "ipython",
    "version": 3
   },
   "file_extension": ".py",
   "mimetype": "text/x-python",
   "name": "python",
   "nbconvert_exporter": "python",
   "pygments_lexer": "ipython3",
   "version": "3.11.4"
  }
 },
 "nbformat": 4,
 "nbformat_minor": 4
}
