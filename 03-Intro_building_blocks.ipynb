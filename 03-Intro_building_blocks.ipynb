{
 "cells": [
  {
   "cell_type": "markdown",
   "metadata": {},
   "source": [
    "<br>\n",
    "\n",
    "<img src=\"./image/Logo/logo_elia_group.png\" width = 200>\n",
    "\n",
    "<br>"
   ]
  },
  {
   "cell_type": "markdown",
   "metadata": {},
   "source": [
    "## Fundamental building blocks of Python\n",
    "<br>\n",
    "\n",
    "So the first thing you have to know about coding is that there are two fundamental building blocks. With them, you can do anything. \n",
    "\n",
    "<ul>\n",
    "    <li> Data Types</li>\n",
    "    <li> Functions </li>\n",
    "</ul>\n",
    "\n",
    "Data types are for storing data. Functions **act on or change** those bits of data. But no worries, you will never have to deal with big equations. Programming is no witchcraft, nor do you need a PhD in theoretical physics. Rather, it is logic."
   ]
  },
  {
   "cell_type": "markdown",
   "metadata": {},
   "source": [
    "In addition to data types and functions, we name different instances of those data types and save them as variables to make our code easier to read and work with."
   ]
  },
  {
   "cell_type": "markdown",
   "metadata": {},
   "source": [
    "<img src=\"./image/solar_power.png\" width=\"200\" >"
   ]
  },
  {
   "cell_type": "markdown",
   "metadata": {},
   "source": [
    "### Example"
   ]
  },
  {
   "attachments": {},
   "cell_type": "markdown",
   "metadata": {},
   "source": [
    "Imagine you have a huge data set of the photovoltaic power capacity on the Belgian grid. The data set covers all data from 2019 until 2022. You have the hypothesis, that the measured load increases during the day and decreases during the night, since it is solar power. You would like to find out, whether that has been the case in the past. To tackle the task you would:\n",
    "\n",
    "1. upload the data into your Python environment\n",
    "2. take a closer look at the columns `Datetime` as well as `Measured & Upscaled`, since those two interest you\n",
    "3. prepare your data, which means group your data based on your dates\n",
    "4. create a proper datetime index\n",
    "5. take a closer look at the hours during the day and calculate the mean for each hour \n",
    "   ... and finally plot your data!       \n",
    "\n",
    "See, all logical. But no worries, the example above is just to give you a taste of what to expect. You will learn about all these different building blocks in detail later on."
   ]
  },
  {
   "cell_type": "markdown",
   "metadata": {},
   "source": [
    "<br>"
   ]
  },
  {
   "cell_type": "markdown",
   "metadata": {},
   "source": [
    "<center><img src=\"./image/intro_data.png/\" width = 600></center>"
   ]
  },
  {
   "cell_type": "markdown",
   "metadata": {},
   "source": [
    "\n",
    "<center><img src=\"./image/intro_code.png\" width=\"900\"></center>\n"
   ]
  },
  {
   "attachments": {},
   "cell_type": "markdown",
   "metadata": {},
   "source": [
    "### Exercise\n",
    "\n",
    "So what we are basically using to get to our plot are different data types and functions. Can you guess... \n",
    "\n",
    "1. what kind of data or data type is stored in the column `Resolution code`?\n",
    "2. whether creating a plot is a function or a data type?\n",
    "3. what is the difference between the data stored under `Monitored Capacity` and `Region`? \n",
    "\n",
    "To answer the questions above, it might help to take a closer look at the dataset itself:"
   ]
  },
  {
   "cell_type": "markdown",
   "metadata": {},
   "source": [
    "<center><img src= \"./image/dataset_precleaning.png\" ><center>"
   ]
  },
  {
   "cell_type": "markdown",
   "metadata": {},
   "source": [
    "<br>"
   ]
  }
 ],
 "metadata": {
  "kernelspec": {
   "display_name": "Python 3",
   "language": "python",
   "name": "python3"
  },
  "language_info": {
   "codemirror_mode": {
    "name": "ipython",
    "version": 3
   },
   "file_extension": ".py",
   "mimetype": "text/x-python",
   "name": "python",
   "nbconvert_exporter": "python",
   "pygments_lexer": "ipython3",
   "version": "3.11.4"
  }
 },
 "nbformat": 4,
 "nbformat_minor": 4
}
