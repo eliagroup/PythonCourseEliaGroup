{
 "cells": [
  {
   "cell_type": "markdown",
   "metadata": {},
   "source": [
    "<br>\n",
    "\n",
    "<img src=\"./image/Logo/logo_elia_group.png\" width = 200>\n",
    "\n",
    "<br>"
   ]
  },
  {
   "cell_type": "markdown",
   "metadata": {},
   "source": [
    "# Interacting with the outside world\n",
    "<br>\n",
    "\n",
    "To really get started with Python you need to know two things: First, how to **import your data** so you can actually work with it. This involves bringing data from the outside world - somewhere on the internet or a database - into our Python environment. Second, how to **import packages**. Packages, or libraries, are collections of well-tested code that are used to extend the base Python language for further purposes."
   ]
  },
  {
   "cell_type": "markdown",
   "metadata": {},
   "source": [
    "<br>\n",
    "\n",
    "<img src=\"./image/Icons/ELIA2201_ICONES_DATA_ANALYTICS_ORANGE.jpg\" width = 200>\n",
    "\n",
    "<br>"
   ]
  },
  {
   "cell_type": "markdown",
   "metadata": {},
   "source": [
    "## Importing Packages\n",
    "<br>\n",
    "\n",
    "You can import packages in various ways: "
   ]
  },
  {
   "cell_type": "code",
   "execution_count": 1,
   "metadata": {},
   "outputs": [],
   "source": [
    "import numpy\n",
    "\n",
    "from numpy import array\n",
    "\n",
    "import numpy as np"
   ]
  },
  {
   "cell_type": "markdown",
   "metadata": {},
   "source": [
    "As you can see, there are three ways to import packages - here, the example is the numpy package, which is used for numerical and vector-based calculations. You will probably make use of the third way. The latter comes in handy, because you `import numpy` and then assign a short name to it `as np` so you don't have to write it out all the times when using it. \n",
    "\n",
    "- Syntax: `import package_name as short_name`"
   ]
  },
  {
   "cell_type": "markdown",
   "metadata": {},
   "source": [
    "Again, basic Python is not where the true power of the language lies. The true power lies in the huge community around the language. \n",
    "There are thousands of packages in Python that build on the base language and make it possible to do many other things, like data processing, editing movies, building websites, or making plots. Here's a [list](https://wiki.python.org/moin/UsefulModules) of some of the most commonly used Python packages.\n",
    "Chances are, for nearly anything you want to do, a package exists in Python to do it. "
   ]
  },
  {
   "cell_type": "markdown",
   "metadata": {},
   "source": [
    "## Paths\n",
    "<br>\n",
    "\n",
    "Your computer's directory is based on paths, that separate files into different directories and folders. \n",
    "\n",
    "Separators\n",
    "- Windows uses `\\` \n",
    "- Unix uses `/` \n",
    "\n",
    "By using the \"os\" package in Python, you can easily see where you are in your file system:"
   ]
  },
  {
   "cell_type": "code",
   "execution_count": null,
   "metadata": {},
   "outputs": [],
   "source": [
    "import os\n",
    "\n",
    "os.getcwd()"
   ]
  },
  {
   "cell_type": "markdown",
   "metadata": {},
   "source": [
    "## Extra Resources\n",
    "To know more about how Python handle modules and packages read:\n",
    "- [Modules and Packages](https://docs.python.org/3/tutorial/modules.html)"
   ]
  }
 ],
 "metadata": {
  "kernelspec": {
   "display_name": "Python 3",
   "language": "python",
   "name": "python3"
  },
  "language_info": {
   "codemirror_mode": {
    "name": "ipython",
    "version": 3
   },
   "file_extension": ".py",
   "mimetype": "text/x-python",
   "name": "python",
   "nbconvert_exporter": "python",
   "pygments_lexer": "ipython3",
   "version": "3.11.4"
  }
 },
 "nbformat": 4,
 "nbformat_minor": 4
}
