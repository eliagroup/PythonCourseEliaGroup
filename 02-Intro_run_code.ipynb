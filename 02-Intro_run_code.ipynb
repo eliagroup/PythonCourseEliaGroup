{
 "cells": [
  {
   "cell_type": "markdown",
   "metadata": {},
   "source": [
    "<br>\n",
    "\n",
    "<img src=\"./image/Logo/logo_elia_group.png\" width = 200>\n",
    "\n",
    "<br>"
   ]
  },
  {
   "cell_type": "markdown",
   "metadata": {},
   "source": [
    "# How to run code in Python\n",
    "\n",
    "<br>\n",
    "\n",
    "Overall, a code runs if it is executed by your computer. Basically, a [Python Interpreter](https://docs.python.org/3/tutorial/interpreter.html) listens for your commands written in Python, and then runs them instantly. There are two options for running your Python code:\n",
    "\n",
    "<ol>\n",
    "    <li>interactive mode</li>\n",
    "    <li>script mode</li>\n",
    "</ol>\n",
    "\n",
    "Currently, you are using the interactive mode with Jupyter Notebook. Jupyter Notebook is a pretty cool browser-based tool for developing quickly and running code snippets, cell by cell. By that, you can see and edit your code easily and directly. It is a good starting point, enables you to see directly your results and is great to do data exploration. The downside of it is, that it can get unstructured for longer pieces of code.\n",
    "\n",
    "When your code is getting longer or you have multiple files, it is recommended to use script mode. Script mode is more efficient as it executes just the single script, which is full of commands, then stops. To do so, you need to save your code in a text file with the ending `.py` which indicates that it's a **Py**thon file. You can execute your Python file by opening the command line and calling the Python Interpreter together with your file, like this `python <your file name>`."
   ]
  },
  {
   "cell_type": "markdown",
   "metadata": {},
   "source": [
    "# How to run code in Jupyter Notebook\n",
    "\n",
    "<br>"
   ]
  },
  {
   "cell_type": "markdown",
   "metadata": {},
   "source": [
    "To actually *run* a code in Python, you can either press **Ctrl + Enter** on your keyboard or you can click the run symbol above:"
   ]
  },
  {
   "attachments": {
    "dda7670e-6420-455d-8320-c98ed47d2a13.png": {
     "image/png": "[encoded data removed]"
    }
   },
   "cell_type": "markdown",
   "metadata": {},
   "source": [
    "![run_code.png](attachment:dda7670e-6420-455d-8320-c98ed47d2a13.png)"
   ]
  },
  {
   "cell_type": "markdown",
   "metadata": {},
   "source": [
    "**Let's try it out!**\n",
    "Here is a line of code. You don't have to understand it yet. Just click in the cell and run the code with one of the two ways from above."
   ]
  },
  {
   "cell_type": "code",
   "execution_count": null,
   "metadata": {},
   "outputs": [],
   "source": [
    "print(\"Welcome to Python\")"
   ]
  },
  {
   "cell_type": "markdown",
   "metadata": {},
   "source": [
    "## Hacks in Jupyter Notebook\n",
    "<br>\n",
    "\n",
    "In Jupyter Notebook, there are some very useful shortcuts that make your life much more easier. You don't have to know them right now. Just know, that you can always come back here to learn them "
   ]
  },
  {
   "cell_type": "markdown",
   "metadata": {},
   "source": [
    "`Shift + Enter` &#8680; runs the current cell"
   ]
  },
  {
   "cell_type": "markdown",
   "metadata": {},
   "source": [
    "`Alt + Enter` &#8680; runs the current cell and creates a new one"
   ]
  },
  {
   "cell_type": "markdown",
   "metadata": {},
   "source": [
    "`Tab` &#8680; auto-completion of your code"
   ]
  },
  {
   "cell_type": "markdown",
   "metadata": {},
   "source": [
    "`m` &#8680; converts code cell to markdown cell"
   ]
  },
  {
   "cell_type": "markdown",
   "metadata": {},
   "source": [
    "`y` &#8680; converts markdown to code cell"
   ]
  },
  {
   "cell_type": "markdown",
   "metadata": {},
   "source": [
    "`Shift + Tab` &#8680; tooltip with everything you need to know"
   ]
  },
  {
   "cell_type": "markdown",
   "metadata": {},
   "source": [
    "<br>\n",
    "\n",
    "Good Job! &#128077; Let's move on to the next subsection."
   ]
  },
  {
   "cell_type": "markdown",
   "metadata": {},
   "source": [
    "## Extra resources\n",
    "Some useful resources to dig deeper about jupyter notebook\n",
    "- [Jupyter notebook extensive short cuts list](https://jupyter-tutorial.readthedocs.io/en/stable/workspace/jupyter/notebook/shortcuts.html)\n",
    "- [Jupyter notebook documentation](https://docs.jupyter.org/en/latest/use/using.html)"
   ]
  }
 ],
 "metadata": {
  "kernelspec": {
   "display_name": "Python 3",
   "language": "python",
   "name": "python3"
  },
  "language_info": {
   "codemirror_mode": {
    "name": "ipython",
    "version": 3
   },
   "file_extension": ".py",
   "mimetype": "text/x-python",
   "name": "python",
   "nbconvert_exporter": "python",
   "pygments_lexer": "ipython3",
   "version": "3.11.4"
  }
 },
 "nbformat": 4,
 "nbformat_minor": 4
}
